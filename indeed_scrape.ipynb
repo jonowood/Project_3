{
 "cells": [
  {
   "cell_type": "code",
   "execution_count": 1,
<<<<<<< HEAD
   "id": "f5f4f11d",
=======
   "id": "52852356",
>>>>>>> 7bd6b8e6c5d1fd62829f49d9d63833c74f68d116
   "metadata": {},
   "outputs": [],
   "source": [
    "#install dependencies\n",
    "import urllib\n",
    "import requests\n",
    "from bs4 import BeautifulSoup\n",
    "import pandas as pd\n",
    "import numpy as np\n",
    "import os\n",
    "import time"
   ]
  },
  {
   "cell_type": "code",
<<<<<<< HEAD
   "execution_count": 13,
   "id": "359fbfca",
=======
   "execution_count": 2,
   "id": "9c6987e7",
>>>>>>> 7bd6b8e6c5d1fd62829f49d9d63833c74f68d116
   "metadata": {},
   "outputs": [],
   "source": [
    "# # insert to hold data\n",
    "# job_title = []\n",
    "# company_name = []\n",
    "# short_description = []\n",
    "# job_location = []\n",
    "\n",
    "# job_counter = 0"
   ]
  },
  {
   "cell_type": "code",
<<<<<<< HEAD
   "execution_count": 14,
   "id": "8077b09b",
=======
   "execution_count": 3,
   "id": "b75470cc",
   "metadata": {},
   "outputs": [],
   "source": [
    "# def load_indeed_jobs_div(job_title, location):\n",
    "#     getVars = {'q' : job_title, 'l' : location, 'fromage' : 'last', 'sort' : 'date'}\n",
    "#     url = ('https://au.indeed.com/jobs?' + urllib.parse.urlencode(getVars))\n",
    "#     page = requests.get(url)\n",
    "#     soup = BeautifulSoup(page.content, \"html.parser\")\n",
    "#     #job_soup = soup.find(id ='resultContent')\n",
    "#     return job_soup"
   ]
  },
  {
   "cell_type": "code",
   "execution_count": 4,
   "id": "374ab38e",
   "metadata": {},
   "outputs": [],
   "source": [
    "# search for term and return pages\n",
    "url = 'https://au.indeed.com/jobs?q=&l=Perth+WA&vjk=ea9c655d3228ceca'\n",
    "page = requests.get(url)\n",
    "soup = BeautifulSoup(page.content, features='html.parser')\n",
    "jobs_on_page = soup('div')"
   ]
  },
  {
   "cell_type": "code",
   "execution_count": 5,
   "id": "b37167c5",
   "metadata": {},
   "outputs": [],
   "source": [
    "# print(job_soup)"
   ]
  },
  {
   "cell_type": "code",
   "execution_count": 6,
   "id": "deea842c",
>>>>>>> 7bd6b8e6c5d1fd62829f49d9d63833c74f68d116
   "metadata": {},
   "outputs": [],
   "source": [
    "def extract_job_title_indeed(job_elem):\n",
    "    title_elem = job_elem.find('span', class_='jobTitle')\n",
    "    title = title_elem.text.strip()\n",
    "    return title\n",
    "\n",
    "# def extract_company_indeed(job_elem):\n",
    "#     company_elem = job_elem.find('span', class_='companyName')\n",
    "#     company = company_elem.text.strip()\n",
    "#     return company\n",
    "\n",
    "# def extract_location_indeed(job_elem):\n",
    "#     loc_elem = job_elem.find('div', class_='companyLocation')\n",
    "#     loc= loc_elem.text.strip()\n",
    "#     return loc\n",
    "\n",
    "# def extract_desc_indeed(job_elem):\n",
    "#     description_elem = job_elem.find('div', class_='job-snippet')\n",
    "#     description = description_elem.text.strip()\n",
    "#     return description"
   ]
  },
  {
   "cell_type": "code",
<<<<<<< HEAD
   "execution_count": 15,
   "id": "08620813",
=======
   "execution_count": 7,
   "id": "015e7d40",
>>>>>>> 7bd6b8e6c5d1fd62829f49d9d63833c74f68d116
   "metadata": {},
   "outputs": [],
   "source": [
    "\n",
    "job_elems = soup('div', class_='mosaic-zone')"
   ]
  },
  {
   "cell_type": "code",
<<<<<<< HEAD
   "execution_count": 16,
   "id": "8a3670a9",
=======
   "execution_count": 8,
   "id": "3d43db8a",
>>>>>>> 7bd6b8e6c5d1fd62829f49d9d63833c74f68d116
   "metadata": {},
   "outputs": [
    {
     "ename": "NameError",
     "evalue": "name 'desired_characs' is not defined",
     "output_type": "error",
     "traceback": [
      "\u001b[1;31m---------------------------------------------------------------------------\u001b[0m",
      "\u001b[1;31mNameError\u001b[0m                                 Traceback (most recent call last)",
      "\u001b[1;32m~\\AppData\\Local\\Temp\\ipykernel_16488\\2542146936.py\u001b[0m in \u001b[0;36m<module>\u001b[1;34m\u001b[0m\n\u001b[0;32m      3\u001b[0m \u001b[1;33m\u001b[0m\u001b[0m\n\u001b[0;32m      4\u001b[0m \u001b[1;33m\u001b[0m\u001b[0m\n\u001b[1;32m----> 5\u001b[1;33m \u001b[1;32mif\u001b[0m \u001b[1;34m'titles'\u001b[0m \u001b[1;32min\u001b[0m \u001b[0mdesired_characs\u001b[0m\u001b[1;33m:\u001b[0m\u001b[1;33m\u001b[0m\u001b[1;33m\u001b[0m\u001b[0m\n\u001b[0m\u001b[0;32m      6\u001b[0m     \u001b[0mtitles\u001b[0m \u001b[1;33m=\u001b[0m \u001b[1;33m[\u001b[0m\u001b[1;33m]\u001b[0m\u001b[1;33m\u001b[0m\u001b[1;33m\u001b[0m\u001b[0m\n\u001b[0;32m      7\u001b[0m     \u001b[0mcols\u001b[0m\u001b[1;33m.\u001b[0m\u001b[0mappend\u001b[0m\u001b[1;33m(\u001b[0m\u001b[1;34m'titles'\u001b[0m\u001b[1;33m)\u001b[0m\u001b[1;33m\u001b[0m\u001b[1;33m\u001b[0m\u001b[0m\n",
      "\u001b[1;31mNameError\u001b[0m: name 'desired_characs' is not defined"
     ]
    }
   ],
   "source": [
    "cols = []\n",
    "extracted_info = []\n",
    "\n",
    "\n",
    "if 'titles' in desired_characs:\n",
    "    titles = []\n",
    "    cols.append('titles')\n",
    "    for job_elem in job_elems:\n",
    "        titles.append(extract_job_title_indeed(job_elem))\n",
    "    extracted_info.append(titles)                    \n",
    "\n",
    "# if 'companies' in desired_characs:\n",
    "#     companies = []\n",
    "#     cols.append('companies')\n",
    "#     for job_elem in job_elems:\n",
    "#         companies.append(extract_company_indeed(job_elem))\n",
    "#     extracted_info.append(companies)\n",
    "\n",
    "# if 'links' in desired_characs:\n",
    "#     links = []\n",
    "#     cols.append('links')\n",
    "#     for job_elem in job_elems:\n",
    "#         links.append(extract_link_indeed(job_elem))\n",
    "#     extracted_info.append(links)\n",
    "\n",
    "# if 'date_listed' in desired_characs:\n",
    "#     dates = []\n",
    "#     cols.append('date_listed')\n",
    "#     for job_elem in job_elems:\n",
    "#         dates.append(extract_date_indeed(job_elem))\n",
    "#     extracted_info.append(dates)"
   ]
  }
 ],
 "metadata": {
  "kernelspec": {
   "display_name": "Python [conda env:PythonData] *",
   "language": "python",
   "name": "conda-env-PythonData-py"
  },
  "language_info": {
   "codemirror_mode": {
    "name": "ipython",
    "version": 3
   },
   "file_extension": ".py",
   "mimetype": "text/x-python",
   "name": "python",
   "nbconvert_exporter": "python",
   "pygments_lexer": "ipython3",
   "version": "3.7.7"
  }
 },
 "nbformat": 4,
 "nbformat_minor": 5
}
