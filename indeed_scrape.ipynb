{
 "cells": [
  {
   "cell_type": "code",
   "execution_count": 1,
   "id": "f5f4f11d",
   "metadata": {},
   "outputs": [],
   "source": [
    "#install dependencies\n",
    "import urllib\n",
    "import requests\n",
    "from bs4 import BeautifulSoup\n",
    "import pandas as pd\n",
    "import os\n"
   ]
  },
  {
   "cell_type": "code",
   "execution_count": 13,
   "id": "359fbfca",
   "metadata": {},
   "outputs": [],
   "source": [
    "def load_indeed_jobs_div(job_title, location):\n",
    "    getVars = {'q' : job_title, 'l' : location, 'fromage' : 'last', 'sort' : 'date'}\n",
    "    url = ('https://au.indeed.com/jobs?' + urllib.parse.urlencode(getVars))\n",
    "    page = requests.get(url)\n",
    "    soup = BeautifulSoup(page.content, \"html.parser\")\n",
    "    job_soup = soup.find(id=\"resultsCol\")\n",
    "    return job_soup"
   ]
  },
  {
   "cell_type": "code",
   "execution_count": 14,
   "id": "8077b09b",
   "metadata": {},
   "outputs": [],
   "source": [
    "def extract_job_title_indeed(job_elem):\n",
    "    title_elem = job_elem.find('h2', class_='title')\n",
    "    title = title_elem.text.strip()\n",
    "    return title\n",
    "\n",
    "def extract_company_indeed(job_elem):\n",
    "    company_elem = job_elem.find('span', class_='company')\n",
    "    company = company_elem.text.strip()\n",
    "    return company\n",
    "\n",
    "def extract_link_indeed(job_elem):\n",
    "    link = job_elem.find('a')['href']\n",
    "    link = 'www.Indeed.co.uk/' + link\n",
    "    return link\n",
    "\n",
    "def extract_date_indeed(job_elem):\n",
    "    date_elem = job_elem.find('span', class_='date')\n",
    "    date = date_elem.text.strip()\n",
    "    return date"
   ]
  },
  {
   "cell_type": "code",
   "execution_count": 15,
   "id": "08620813",
   "metadata": {},
   "outputs": [
    {
     "ename": "NameError",
     "evalue": "name 'job_soup' is not defined",
     "output_type": "error",
     "traceback": [
      "\u001b[1;31m---------------------------------------------------------------------------\u001b[0m",
      "\u001b[1;31mNameError\u001b[0m                                 Traceback (most recent call last)",
      "Input \u001b[1;32mIn [15]\u001b[0m, in \u001b[0;36m<cell line: 1>\u001b[1;34m()\u001b[0m\n\u001b[1;32m----> 1\u001b[0m job_elems \u001b[38;5;241m=\u001b[39m \u001b[43mjob_soup\u001b[49m\u001b[38;5;241m.\u001b[39mfind_all(\u001b[38;5;124m'\u001b[39m\u001b[38;5;124mdiv\u001b[39m\u001b[38;5;124m'\u001b[39m, class_\u001b[38;5;241m=\u001b[39m\u001b[38;5;124m'\u001b[39m\u001b[38;5;124mjobsearch-SerpJobCard\u001b[39m\u001b[38;5;124m'\u001b[39m)\n",
      "\u001b[1;31mNameError\u001b[0m: name 'job_soup' is not defined"
     ]
    }
   ],
   "source": [
    "\n",
    "job_elems = job_soup.find_all('div', class_='jobsearch-SerpJobCard')"
   ]
  },
  {
   "cell_type": "code",
   "execution_count": 16,
   "id": "8a3670a9",
   "metadata": {},
   "outputs": [
    {
     "ename": "NameError",
     "evalue": "name 'desired_characs' is not defined",
     "output_type": "error",
     "traceback": [
      "\u001b[1;31m---------------------------------------------------------------------------\u001b[0m",
      "\u001b[1;31mNameError\u001b[0m                                 Traceback (most recent call last)",
      "Input \u001b[1;32mIn [16]\u001b[0m, in \u001b[0;36m<cell line: 5>\u001b[1;34m()\u001b[0m\n\u001b[0;32m      1\u001b[0m cols \u001b[38;5;241m=\u001b[39m []\n\u001b[0;32m      2\u001b[0m extracted_info \u001b[38;5;241m=\u001b[39m []\n\u001b[1;32m----> 5\u001b[0m \u001b[38;5;28;01mif\u001b[39;00m \u001b[38;5;124m'\u001b[39m\u001b[38;5;124mtitles\u001b[39m\u001b[38;5;124m'\u001b[39m \u001b[38;5;129;01min\u001b[39;00m \u001b[43mdesired_characs\u001b[49m:\n\u001b[0;32m      6\u001b[0m     titles \u001b[38;5;241m=\u001b[39m []\n\u001b[0;32m      7\u001b[0m     cols\u001b[38;5;241m.\u001b[39mappend(\u001b[38;5;124m'\u001b[39m\u001b[38;5;124mtitles\u001b[39m\u001b[38;5;124m'\u001b[39m)\n",
      "\u001b[1;31mNameError\u001b[0m: name 'desired_characs' is not defined"
     ]
    }
   ],
   "source": [
    "cols = []\n",
    "extracted_info = []\n",
    "\n",
    "\n",
    "if 'titles' in desired_characs:\n",
    "    titles = []\n",
    "    cols.append('titles')\n",
    "    for job_elem in job_elems:\n",
    "        titles.append(extract_job_title_indeed(job_elem))\n",
    "    extracted_info.append(titles)                    \n",
    "\n",
    "if 'companies' in desired_characs:\n",
    "    companies = []\n",
    "    cols.append('companies')\n",
    "    for job_elem in job_elems:\n",
    "        companies.append(extract_company_indeed(job_elem))\n",
    "    extracted_info.append(companies)\n",
    "\n",
    "if 'links' in desired_characs:\n",
    "    links = []\n",
    "    cols.append('links')\n",
    "    for job_elem in job_elems:\n",
    "        links.append(extract_link_indeed(job_elem))\n",
    "    extracted_info.append(links)\n",
    "\n",
    "if 'date_listed' in desired_characs:\n",
    "    dates = []\n",
    "    cols.append('date_listed')\n",
    "    for job_elem in job_elems:\n",
    "        dates.append(extract_date_indeed(job_elem))\n",
    "    extracted_info.append(dates)"
   ]
  }
 ],
 "metadata": {
  "kernelspec": {
   "display_name": "Python [conda env:PythonData] *",
   "language": "python",
   "name": "conda-env-PythonData-py"
  },
  "language_info": {
   "codemirror_mode": {
    "name": "ipython",
    "version": 3
   },
   "file_extension": ".py",
   "mimetype": "text/x-python",
   "name": "python",
   "nbconvert_exporter": "python",
   "pygments_lexer": "ipython3",
   "version": "3.7.7"
  }
 },
 "nbformat": 4,
 "nbformat_minor": 5
}
