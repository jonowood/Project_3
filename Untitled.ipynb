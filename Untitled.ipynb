{
 "cells": [
  {
   "cell_type": "code",
   "execution_count": 7,
   "id": "f84ee4b9",
   "metadata": {},
   "outputs": [],
   "source": [
    "# import pymongo\n",
    "import pymongo\n",
    "\n",
    "# import mongodb key\n",
    "from api_keys import mongo_key"
   ]
  },
  {
   "cell_type": "code",
   "execution_count": 9,
   "id": "2ee57dea",
   "metadata": {},
   "outputs": [],
   "source": [
    "conn = 'mongodb+srv://jonowood:' + mongo_key + '@cluster0.9b8rqez.mongodb.net/test'\n",
    "client = pymongo.MongoClient(conn)"
   ]
  }
 ],
 "metadata": {
  "kernelspec": {
   "display_name": "Python 3 (ipykernel)",
   "language": "python",
   "name": "python3"
  },
  "language_info": {
   "codemirror_mode": {
    "name": "ipython",
    "version": 3
   },
   "file_extension": ".py",
   "mimetype": "text/x-python",
   "name": "python",
   "nbconvert_exporter": "python",
   "pygments_lexer": "ipython3",
   "version": "3.9.12"
  }
 },
 "nbformat": 4,
 "nbformat_minor": 5
}
