{
 "cells": [
  {
   "cell_type": "code",
   "execution_count": 11,
   "id": "323f4d25",
   "metadata": {},
   "outputs": [],
   "source": [
    "# import dependencies\n",
    "import urllib\n",
    "import requests\n",
    "from bs4 import BeautifulSoup\n",
    "import pandas as pd\n",
    "import os\n",
    "\n",
    "# import pymongo\n",
    "import pymongo\n",
    "\n",
    "# import mongodb key\n",
    "from api_keys import mongo_key"
   ]
  },
  {
   "cell_type": "code",
   "execution_count": 9,
   "id": "81d8fa4d",
   "metadata": {},
   "outputs": [],
   "source": [
    "conn = 'mongodb+srv://jonowood:' + mongo_key + '@cluster0.9b8rqez.mongodb.net/test'\n",
    "client = pymongo.MongoClient(conn)"
   ]
  }
 ],
 "metadata": {
  "kernelspec": {
   "display_name": "Python 3 (ipykernel)",
   "language": "python",
   "name": "python3"
  },
  "language_info": {
   "codemirror_mode": {
    "name": "ipython",
    "version": 3
   },
   "file_extension": ".py",
   "mimetype": "text/x-python",
   "name": "python",
   "nbconvert_exporter": "python",
   "pygments_lexer": "ipython3",
   "version": "3.9.12"
  }
 },
 "nbformat": 4,
 "nbformat_minor": 5
}
