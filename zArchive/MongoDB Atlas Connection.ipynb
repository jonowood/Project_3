{
 "cells": [
  {
   "cell_type": "code",
   "execution_count": 11,
   "id": "323f4d25",
   "metadata": {},
   "outputs": [],
   "source": [
    "# import dependencies\n",
    "import urllib\n",
    "import requests\n",
    "from bs4 import BeautifulSoup\n",
    "import pandas as pd\n",
    "import os\n",
    "\n",
    "# import pymongo\n",
    "import pymongo\n",
    "\n",
    "# import mongodb key\n",
    "from api_keys import mongo_key"
   ]
  },
  {
   "cell_type": "code",
   "execution_count": 9,
   "id": "81d8fa4d",
   "metadata": {},
   "outputs": [],
   "source": [
    "conn = 'mongodb+srv://jonowood:' + mongo_key + '@cluster0.9b8rqez.mongodb.net/test'\n",
    "client = pymongo.MongoClient(conn)"
   ]
  }
 ],
 "metadata": {
  "kernelspec": {
   "display_name": "Python 3",
   "language": "python",
   "name": "python3"
  },
  "language_info": {
   "codemirror_mode": {
    "name": "ipython",
    "version": 3
   },
   "file_extension": ".py",
   "mimetype": "text/x-python",
   "name": "python",
   "nbconvert_exporter": "python",
   "pygments_lexer": "ipython3",
   "version": "3.10.6 (tags/v3.10.6:9c7b4bd, Aug  1 2022, 21:53:49) [MSC v.1932 64 bit (AMD64)]"
  },
  "vscode": {
   "interpreter": {
    "hash": "26de051ba29f2982a8de78e945f0abaf191376122a1563185a90213a26c5da77"
   }
  }
 },
 "nbformat": 4,
 "nbformat_minor": 5
}
