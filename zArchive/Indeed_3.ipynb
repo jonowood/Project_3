{
 "cells": [
  {
   "cell_type": "code",
   "execution_count": 1,
   "id": "a8b09eba",
   "metadata": {},
   "outputs": [],
   "source": [
    " # Dependencies\n",
    "from bs4 import BeautifulSoup\n",
    "import requests\n",
    "import os"
   ]
  },
  {
   "cell_type": "code",
   "execution_count": 2,
   "id": "09e81b6b",
   "metadata": {},
   "outputs": [],
   "source": [
    " # Stack Overflow URL to scrape\n",
    "url = 'https://au.indeed.com/jobs?q=&l=Perth+WA&vjk=ea9c655d3228ceca'\n",
    "\n",
    "# Retrieve page with the requests module\n",
    "html = requests.get(url)"
   ]
  },
  {
   "cell_type": "code",
   "execution_count": 3,
   "id": "aeff5ee3",
   "metadata": {},
   "outputs": [],
   "source": [
    " # Create BeautifulSoup object; parse with 'html.parser'\n",
    "soup = BeautifulSoup(html.text, 'html.parser')"
   ]
  },
  {
   "cell_type": "code",
   "execution_count": 4,
   "id": "678ae52c",
   "metadata": {},
   "outputs": [
    {
     "data": {
      "text/plain": [
       "<!DOCTYPE html>\n",
       "\n",
       "<html lang=\"en-US\">\n",
       "<head>\n",
       "<title>Access denied</title>\n",
       "<meta content=\"IE=Edge\" http-equiv=\"X-UA-Compatible\"/>\n",
       "<meta content=\"noindex, nofollow\" name=\"robots\"/>\n",
       "<meta content=\"width=device-width,initial-scale=1\" name=\"viewport\"/>\n",
       "<link href=\"/cdn-cgi/styles/errors.css\" media=\"screen\" rel=\"stylesheet\"/>\n",
       "<script>\n",
       "(function(){if(document.addEventListener&&window.XMLHttpRequest&&JSON&&JSON.stringify){var e=function(a){var c=document.getElementById(\"error-feedback-survey\"),d=document.getElementById(\"error-feedback-success\"),b=new XMLHttpRequest;a={event:\"feedback clicked\",properties:{errorCode:1020,helpful:a,version:5}};b.open(\"POST\",\"https://sparrow.cloudflare.com/api/v1/event\");b.setRequestHeader(\"Content-Type\",\"application/json\");b.setRequestHeader(\"Sparrow-Source-Key\",\"c771f0e4b54944bebf4261d44bd79a1e\");\n",
       "b.send(JSON.stringify(a));c.classList.add(\"feedback-hidden\");d.classList.remove(\"feedback-hidden\")};document.addEventListener(\"DOMContentLoaded\",function(){var a=document.getElementById(\"error-feedback\"),c=document.getElementById(\"feedback-button-yes\"),d=document.getElementById(\"feedback-button-no\");\"classList\"in a&&(a.classList.remove(\"feedback-hidden\"),c.addEventListener(\"click\",function(){e(!0)}),d.addEventListener(\"click\",function(){e(!1)}))})}})();\n",
       "</script>\n",
       "<script>\n",
       "      (function(){function d(c){var b=document.getElementById(\"copy-label\"),a=document.getElementById(\"cf-details-wrapper-expandable\");c.target.checked?a.classList.add(\"expanded\"):(a.classList.remove(\"expanded\"),b.innerText=\"Click to copy\")}if(document.addEventListener){var e=function(){var c=document.getElementById(\"copy-label\");var b=document.getElementById(\"error-details\").textContent;if(navigator.clipboard)navigator.clipboard.writeText(b);else{var a=document.createElement(\"textarea\");a.value=b;a.style.top=\"0\";a.style.left=\"0\";a.style.position=\"fixed\";document.body.appendChild(a);a.focus();a.select();document.execCommand(\"copy\");document.body.removeChild(a)}c.innerText=\"Copied text to clipboard\"};document.addEventListener(\"DOMContentLoaded\",function(){var c=document.getElementById(\"error-details-checkbox\"),b=document.getElementById(\"click-to-copy-btn\");document.getElementById(\"copy-label\").classList.remove(\"hidden\");c.addEventListener(\"change\",d);b.addEventListener(\"click\",e)})}})();\n",
       "      </script>\n",
       "<script defer=\"\" src=\"https://performance.radar.cloudflare.com/beacon.js\"></script>\n",
       "</head>\n",
       "<body>\n",
       "<div class=\"cf-main-wrapper\" role=\"main\">\n",
       "<div class=\"cf-header cf-section\">\n",
       "<div class=\"cf-error-title\">\n",
       "<h1>Access denied</h1>\n",
       "<span class=\"cf-code-label\">Error code <span>1020</span></span>\n",
       "</div>\n",
       "<div class=\"cf-error-description\">\n",
       "<p>You do not have access to au.indeed.com.</p><p>The site owner may have set restrictions that prevent you from accessing the site.</p>\n",
       "</div>\n",
       "</div>\n",
       "</div>\n",
       "<div class=\"cf-details-wrapper\">\n",
       "<div class=\"cf-section\" role=\"region\">\n",
       "<div class=\"cf-expandable\" id=\"cf-details-wrapper-expandable\">\n",
       "<label class=\"cf-expandable-btn\" for=\"error-details-checkbox\" title=\"Error details\">\n",
       "<p class=\"cf-dropdown-title\">Error details</p>\n",
       "<img alt=\"Caret icon\" class=\"cf-caret-icon\" id=\"caret-icon\" src=\"data:image/png;base64,iVBORw0KGgoAAAANSUhEUgAAACAAAAAgBAMAAACBVGfHAAAAElBMVEUAAAAwMDAxMTEyMjIwMDAxMTF+89HTAAAABXRSTlMAf2CAMKS61bwAAABTSURBVCjPzcq7DcAgFENR5zMATfo06TNCViAS+6+CeFi6gglw4eLqaPVtaQpXnkApaQT/k0dw70EAUhCA1AnABGACMAGYAEwAkCOAydv+I5xaZhXWbQrD80TkkQAAAABJRU5ErkJggg==\"/>\n",
       "</label>\n",
       "<input class=\"hidden\" id=\"error-details-checkbox\" type=\"checkbox\"/>\n",
       "<div class=\"cf-expandable-error-info hidden\">\n",
       "<p class=\"cf-error-copy-description\">Provide the site owner this information.</p>\n",
       "<button class=\"cf-click-to-copy-btn\" id=\"click-to-copy-btn\" title=\"Click to copy\" type=\"button\">\n",
       "<div class=\"cf-error-wrapper\" id=\"error-details\"><p class=\"cf-error-details-endpoint\">I got an error when visiting au.indeed.com/jobs?q=&amp;l=Perth+WA&amp;vjk=ea9c655d3228ceca.</p>\n",
       "<p>Error code: 1020</p>\n",
       "<p>Ray ID: 78e7478f3c932b31</p>\n",
       "<p>Country: AU</p>\n",
       "<p>Data center: mel01</p>\n",
       "<p>IP: 120.159.218.204</p>\n",
       "<p>Timestamp: 2023-01-24 08:08:08 UTC</p>\n",
       "</div>\n",
       "<p class=\"cf-copy-label hidden\" id=\"copy-label\">Click to copy</p>\n",
       "</button>\n",
       "</div>\n",
       "</div>\n",
       "</div>\n",
       "<div class=\"clearfix cf-footer cf-section\" role=\"contentinfo\">\n",
       "<div class=\"cf-column\">\n",
       "<div class=\"feedback-hidden py-8 text-center\" id=\"error-feedback\">\n",
       "<div class=\"footer-line-wrapper\" id=\"error-feedback-survey\">\n",
       "        Was this page helpful?\n",
       "        <button class=\"border border-solid bg-white cf-button cursor-pointer ml-4 px-4 py-2 rounded\" id=\"feedback-button-yes\" type=\"button\">Yes</button>\n",
       "<button class=\"border border-solid bg-white cf-button cursor-pointer ml-4 px-4 py-2 rounded\" id=\"feedback-button-no\" type=\"button\">No</button>\n",
       "</div>\n",
       "<div class=\"feedback-success feedback-hidden\" id=\"error-feedback-success\">\n",
       "        Thank you for your feedback!\n",
       "    </div>\n",
       "</div>\n",
       "</div>\n",
       "<div class=\"cf-column cf-footer-line-wrapper text-center\">\n",
       "<p>\n",
       "               Performance &amp; security by <a href=\"https://www.cloudflare.com?utm_source=1020_error\" rel=\"noopener noreferrer\" target=\"_blank\">Cloudflare <img alt=\"External link\" class=\"external-link\" src=\"/cdn-cgi/images/external.png\" title=\"Opens in new tab\"/></a>\n",
       "</p>\n",
       "</div>\n",
       "</div>\n",
       "</div>\n",
       "<script crossorigin=\"anonymous\" data-cf-beacon='{\"rayId\":\"78e7478f3c932b31\",\"token\":\"47161d92b8b74ef5b23469b91c2535c6\",\"version\":\"2022.11.3\",\"si\":100}' defer=\"\" integrity=\"sha512-0ahDYl866UMhKuYcW078ScMalXqtFJggm7TmlUtp0UlD4eQk0Ixfnm5ykXKvGJNFjLMoortdseTfsRT8oCfgGA==\" src=\"https://static.cloudflareinsights.com/beacon.min.js/vaafb692b2aea4879b33c060e79fe94621666317369993\"></script>\n",
       "</body>\n",
       "</html>"
      ]
     },
     "execution_count": 4,
     "metadata": {},
     "output_type": "execute_result"
    }
   ],
   "source": [
    "soup"
   ]
  },
  {
   "cell_type": "code",
   "execution_count": null,
   "id": "b8b9cd08",
   "metadata": {},
   "outputs": [],
   "source": []
  }
 ],
 "metadata": {
  "kernelspec": {
   "display_name": "Python [conda env:PythonData] *",
   "language": "python",
   "name": "conda-env-PythonData-py"
  },
  "language_info": {
   "codemirror_mode": {
    "name": "ipython",
    "version": 3
   },
   "file_extension": ".py",
   "mimetype": "text/x-python",
   "name": "python",
   "nbconvert_exporter": "python",
   "pygments_lexer": "ipython3",
   "version": "3.7.7"
  }
 },
 "nbformat": 4,
 "nbformat_minor": 5
}
