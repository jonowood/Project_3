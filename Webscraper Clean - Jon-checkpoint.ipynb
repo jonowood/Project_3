{
 "cells": [
  {
   "cell_type": "markdown",
   "id": "6a0ac34f",
   "metadata": {},
   "source": [
    "Import Depencies"
   ]
  },
  {
   "cell_type": "code",
   "execution_count": 1,
   "id": "d20c05b9",
   "metadata": {},
   "outputs": [],
   "source": [
    "from bs4 import BeautifulSoup\n",
    "import requests\n",
    "import os\n",
    "import pandas as pd\n",
    "import numpy as np"
   ]
  },
  {
   "cell_type": "markdown",
   "id": "38e088bf",
   "metadata": {},
   "source": [
    "Set header to circumvent webscraping blocker"
   ]
  },
  {
   "cell_type": "code",
   "execution_count": 2,
   "id": "9ebc21ba",
   "metadata": {},
   "outputs": [],
   "source": [
    "headers = {\n",
    "    \"User-agent\": \"Mozilla/5.0 (X11; Linux x86_64) AppleWebKit/537.36 (KHTML, like Gecko) Chrome/77.0.3865.120 Safari/537.36\"}"
   ]
  },
  {
   "cell_type": "markdown",
   "id": "e55061e7",
   "metadata": {},
   "source": [
    "Create lists to store **responses**"
   ]
  },
  {
   "cell_type": "code",
   "execution_count": 3,
   "id": "4b11b961",
   "metadata": {},
   "outputs": [],
   "source": [
    "# data to scrape\n",
    "job_title = []\n",
    "company_name = []\n",
    "short_description = []\n",
    "job_location = []\n",
    "job_classification = []\n",
    "job_subclassification = []\n",
    "job_site = []\n",
    "\n",
    "job_counter = 0"
   ]
  },
  {
   "cell_type": "markdown",
   "id": "68f491a5",
   "metadata": {},
   "source": [
    "Scrape the website "
   ]
  },
  {
   "cell_type": "code",
   "execution_count": 4,
   "id": "61072665",
   "metadata": {},
   "outputs": [],
   "source": [
    "# url = 'https://www.seek.com.au/jobs-in-construction/in-All-Perth-WA'\n",
    "# response = requests.get(url)\n",
    "# soup = BeautifulSoup(response.content, features='html.parser')\n",
    "# jobs_on_page = soup('article')"
   ]
  },
  {
   "cell_type": "markdown",
   "id": "adaa524d",
   "metadata": {},
   "source": [
    "Create list of job fields"
   ]
  },
  {
   "cell_type": "code",
   "execution_count": 5,
   "id": "d8c6e38d",
   "metadata": {},
   "outputs": [],
   "source": [
    "job_field = ['construction', 'engineering', 'healthcare-medical', 'sales']"
   ]
  },
  {
   "cell_type": "markdown",
   "id": "0d129be1",
   "metadata": {},
   "source": [
    "Scrape data"
   ]
  },
  {
   "cell_type": "code",
   "execution_count": 6,
   "id": "d0ef6a31",
   "metadata": {},
   "outputs": [
    {
     "name": "stdout",
     "output_type": "stream",
     "text": [
      "Jobs scraped: 88\r"
     ]
    }
   ],
   "source": [
    "for x in job_field: \n",
    "    \n",
    "    url = 'https://www.seek.com.au/jobs-in-' + x + '/in-All-Perth-WA'\n",
    "    response = requests.get(url)\n",
    "    soup = BeautifulSoup(response.content, features='html.parser')\n",
    "    jobs_on_page = soup('article')\n",
    "        \n",
    "    for i in range(len(jobs_on_page)):\n",
    "\n",
    "                job_counter += 1 \n",
    "                \n",
    "                job_title.append(soup('article')[i]['aria-label'])\n",
    "                job_site.append(\"Seek.com.au\")\n",
    "                short_description.append(soup('article')[i].find('span', {'data-automation':'jobShortDescription'}).text)\n",
    "                job_location.append(soup('article')[i].find('a', {'data-automation':'jobLocation'}).text)\n",
    "                job_subclassification.append(soup('article')[i].find('a', {'data-automation':'jobSubClassification'}).text)\n",
    "                job_classification.append(soup('article')[i].find('a', {'data-automation':'jobClassification'}).text)\n",
    "                \n",
    "                print('Jobs scraped: %d' % job_counter, end='\\r')\n",
    "                \n",
    "                try:\n",
    "                    company_name.append(soup('article')[i].find('a', {'data-automation':'jobCompany'}).text)\n",
    "                except:\n",
    "                    company_name.append(np.nan)"
   ]
  },
  {
   "cell_type": "markdown",
   "id": "dee60d45",
   "metadata": {},
   "source": [
    "-------"
   ]
  },
  {
   "cell_type": "markdown",
   "id": "72bcce0c",
   "metadata": {},
   "source": [
    "## Columns \n",
    "\n",
    "1.\tJob title\n",
    "2.\tCompany\n",
    "3.\tDescription\n",
    "4.\tLocation\n"
   ]
  },
  {
   "cell_type": "code",
   "execution_count": 7,
   "id": "96bf4662",
   "metadata": {},
   "outputs": [
    {
     "name": "stdout",
     "output_type": "stream",
     "text": [
      "88\n",
      "88\n",
      "88\n"
     ]
    }
   ],
   "source": [
    "print(len(company_name))\n",
    "print(len(job_title))\n",
    "print(len(short_description))"
   ]
  },
  {
   "cell_type": "code",
   "execution_count": 8,
   "id": "4cde3d23",
   "metadata": {},
   "outputs": [],
   "source": [
    "seek_data = {'job_title': job_title,\n",
    "            'company_name': company_name,\n",
    "            'short_description': short_description,\n",
    "            'job_location': job_location,\n",
    "            'job_classification': job_classification,\n",
    "            'job_subclassification': job_subclassification,\n",
    "            'job_site' : job_site\n",
    "             }"
   ]
  },
  {
   "cell_type": "code",
   "execution_count": 11,
   "id": "fd35fd78",
   "metadata": {},
   "outputs": [
    {
     "data": {
      "text/html": [
       "<div>\n",
       "<style scoped>\n",
       "    .dataframe tbody tr th:only-of-type {\n",
       "        vertical-align: middle;\n",
       "    }\n",
       "\n",
       "    .dataframe tbody tr th {\n",
       "        vertical-align: top;\n",
       "    }\n",
       "\n",
       "    .dataframe thead th {\n",
       "        text-align: right;\n",
       "    }\n",
       "</style>\n",
       "<table border=\"1\" class=\"dataframe\">\n",
       "  <thead>\n",
       "    <tr style=\"text-align: right;\">\n",
       "      <th></th>\n",
       "      <th>job_title</th>\n",
       "      <th>company_name</th>\n",
       "      <th>short_description</th>\n",
       "      <th>job_location</th>\n",
       "      <th>job_classification</th>\n",
       "      <th>job_subclassification</th>\n",
       "      <th>job_site</th>\n",
       "    </tr>\n",
       "  </thead>\n",
       "  <tbody>\n",
       "    <tr>\n",
       "      <th>0</th>\n",
       "      <td>Graduate Construction/Property Program 2023</td>\n",
       "      <td>Proforce</td>\n",
       "      <td>Seeking an entry-level position with a well-es...</td>\n",
       "      <td>Fremantle &amp; Southern Suburbs</td>\n",
       "      <td>Construction</td>\n",
       "      <td>Project Management</td>\n",
       "      <td>Seek.com.au</td>\n",
       "    </tr>\n",
       "    <tr>\n",
       "      <th>1</th>\n",
       "      <td>Precast Concrete Production Supervisor</td>\n",
       "      <td>Cascada</td>\n",
       "      <td>We're looking for a leader with concrete exper...</td>\n",
       "      <td>Malaga</td>\n",
       "      <td>Construction</td>\n",
       "      <td>Foreperson/Supervisors</td>\n",
       "      <td>Seek.com.au</td>\n",
       "    </tr>\n",
       "    <tr>\n",
       "      <th>2</th>\n",
       "      <td>Residential Building Estimator/Scheduler</td>\n",
       "      <td>NaN</td>\n",
       "      <td>Building Estimator: An opportunity exists for ...</td>\n",
       "      <td>Rivervale</td>\n",
       "      <td>Construction</td>\n",
       "      <td>Estimating</td>\n",
       "      <td>Seek.com.au</td>\n",
       "    </tr>\n",
       "    <tr>\n",
       "      <th>3</th>\n",
       "      <td>Construction Site Supervisor / Site Manager - ...</td>\n",
       "      <td>Summit Homes Group</td>\n",
       "      <td>Construction Supervisor/Site Manager: very com...</td>\n",
       "      <td>Perth WA</td>\n",
       "      <td>Construction</td>\n",
       "      <td>Foreperson/Supervisors</td>\n",
       "      <td>Seek.com.au</td>\n",
       "    </tr>\n",
       "    <tr>\n",
       "      <th>4</th>\n",
       "      <td>Trainee Supervisor</td>\n",
       "      <td>Summit Homes Group</td>\n",
       "      <td>We have an exciting and rare opportunity to jo...</td>\n",
       "      <td>Myaree</td>\n",
       "      <td>Construction</td>\n",
       "      <td>Foreperson/Supervisors</td>\n",
       "      <td>Seek.com.au</td>\n",
       "    </tr>\n",
       "    <tr>\n",
       "      <th>...</th>\n",
       "      <td>...</td>\n",
       "      <td>...</td>\n",
       "      <td>...</td>\n",
       "      <td>...</td>\n",
       "      <td>...</td>\n",
       "      <td>...</td>\n",
       "      <td>...</td>\n",
       "    </tr>\n",
       "    <tr>\n",
       "      <th>83</th>\n",
       "      <td>Key Account Manager - National Strategy &amp; Deve...</td>\n",
       "      <td>Alcolizer Pty Ltd</td>\n",
       "      <td>Can you develop strategic sales plans to grow ...</td>\n",
       "      <td>Balcatta</td>\n",
       "      <td>Sales</td>\n",
       "      <td>Account &amp; Relationship Management</td>\n",
       "      <td>Seek.com.au</td>\n",
       "    </tr>\n",
       "    <tr>\n",
       "      <th>84</th>\n",
       "      <td>BUSINESS DEVELOPMENT MANAGER</td>\n",
       "      <td>APC Group</td>\n",
       "      <td>We are offering a Business Development Manager...</td>\n",
       "      <td>Bassendean</td>\n",
       "      <td>Sales</td>\n",
       "      <td>New Business Development</td>\n",
       "      <td>Seek.com.au</td>\n",
       "    </tr>\n",
       "    <tr>\n",
       "      <th>85</th>\n",
       "      <td>Territory Manager - WA</td>\n",
       "      <td>Brady Australia Pty Ltd</td>\n",
       "      <td>We are seeking an energetic and strategic Terr...</td>\n",
       "      <td>Perth WA</td>\n",
       "      <td>Sales</td>\n",
       "      <td>Sales Representatives/Consultants</td>\n",
       "      <td>Seek.com.au</td>\n",
       "    </tr>\n",
       "    <tr>\n",
       "      <th>86</th>\n",
       "      <td>Key Account Manager</td>\n",
       "      <td>Cleanaway Operations Pty Ltd</td>\n",
       "      <td>Provide key single point account management wi...</td>\n",
       "      <td>Malaga</td>\n",
       "      <td>Sales</td>\n",
       "      <td>New Business Development</td>\n",
       "      <td>Seek.com.au</td>\n",
       "    </tr>\n",
       "    <tr>\n",
       "      <th>87</th>\n",
       "      <td>Sales Representative</td>\n",
       "      <td>Braeco Sales</td>\n",
       "      <td>Join a family-owned company that provides oppo...</td>\n",
       "      <td>Osborne Park</td>\n",
       "      <td>Sales</td>\n",
       "      <td>Sales Representatives/Consultants</td>\n",
       "      <td>Seek.com.au</td>\n",
       "    </tr>\n",
       "  </tbody>\n",
       "</table>\n",
       "<p>88 rows × 7 columns</p>\n",
       "</div>"
      ],
      "text/plain": [
       "                                            job_title  \\\n",
       "0         Graduate Construction/Property Program 2023   \n",
       "1              Precast Concrete Production Supervisor   \n",
       "2            Residential Building Estimator/Scheduler   \n",
       "3   Construction Site Supervisor / Site Manager - ...   \n",
       "4                                  Trainee Supervisor   \n",
       "..                                                ...   \n",
       "83  Key Account Manager - National Strategy & Deve...   \n",
       "84                       BUSINESS DEVELOPMENT MANAGER   \n",
       "85                             Territory Manager - WA   \n",
       "86                                Key Account Manager   \n",
       "87                               Sales Representative   \n",
       "\n",
       "                    company_name  \\\n",
       "0                       Proforce   \n",
       "1                        Cascada   \n",
       "2                            NaN   \n",
       "3             Summit Homes Group   \n",
       "4             Summit Homes Group   \n",
       "..                           ...   \n",
       "83             Alcolizer Pty Ltd   \n",
       "84                     APC Group   \n",
       "85       Brady Australia Pty Ltd   \n",
       "86  Cleanaway Operations Pty Ltd   \n",
       "87                  Braeco Sales   \n",
       "\n",
       "                                    short_description  \\\n",
       "0   Seeking an entry-level position with a well-es...   \n",
       "1   We're looking for a leader with concrete exper...   \n",
       "2   Building Estimator: An opportunity exists for ...   \n",
       "3   Construction Supervisor/Site Manager: very com...   \n",
       "4   We have an exciting and rare opportunity to jo...   \n",
       "..                                                ...   \n",
       "83  Can you develop strategic sales plans to grow ...   \n",
       "84  We are offering a Business Development Manager...   \n",
       "85  We are seeking an energetic and strategic Terr...   \n",
       "86  Provide key single point account management wi...   \n",
       "87  Join a family-owned company that provides oppo...   \n",
       "\n",
       "                    job_location job_classification  \\\n",
       "0   Fremantle & Southern Suburbs       Construction   \n",
       "1                         Malaga       Construction   \n",
       "2                      Rivervale       Construction   \n",
       "3                       Perth WA       Construction   \n",
       "4                         Myaree       Construction   \n",
       "..                           ...                ...   \n",
       "83                      Balcatta              Sales   \n",
       "84                    Bassendean              Sales   \n",
       "85                      Perth WA              Sales   \n",
       "86                        Malaga              Sales   \n",
       "87                  Osborne Park              Sales   \n",
       "\n",
       "                job_subclassification     job_site  \n",
       "0                  Project Management  Seek.com.au  \n",
       "1              Foreperson/Supervisors  Seek.com.au  \n",
       "2                          Estimating  Seek.com.au  \n",
       "3              Foreperson/Supervisors  Seek.com.au  \n",
       "4              Foreperson/Supervisors  Seek.com.au  \n",
       "..                                ...          ...  \n",
       "83  Account & Relationship Management  Seek.com.au  \n",
       "84           New Business Development  Seek.com.au  \n",
       "85  Sales Representatives/Consultants  Seek.com.au  \n",
       "86           New Business Development  Seek.com.au  \n",
       "87  Sales Representatives/Consultants  Seek.com.au  \n",
       "\n",
       "[88 rows x 7 columns]"
      ]
     },
     "execution_count": 11,
     "metadata": {},
     "output_type": "execute_result"
    }
   ],
   "source": [
    "seek_data_df = pd.DataFrame(seek_data)\n",
    "seek_data_df"
   ]
  },
  {
   "cell_type": "markdown",
   "id": "c0a15273",
   "metadata": {},
   "source": [
    "### Count words to plot\n",
    "\n",
    "-----"
   ]
  },
  {
   "cell_type": "code",
   "execution_count": 14,
   "id": "deea01fb",
   "metadata": {},
   "outputs": [],
   "source": [
    "# count, tally and describe words in short_description\n",
    "\n",
    "seek_count = (seek_data_df['short_description'].str.split(expand=True)\n",
    "              .stack()\n",
    "              .value_counts()\n",
    "              .rename_axis('vals')\n",
    "              .reset_index(name='count'))"
   ]
  },
  {
   "cell_type": "code",
   "execution_count": 15,
   "id": "5f281f73",
   "metadata": {},
   "outputs": [
    {
     "data": {
      "text/html": [
       "<div>\n",
       "<style scoped>\n",
       "    .dataframe tbody tr th:only-of-type {\n",
       "        vertical-align: middle;\n",
       "    }\n",
       "\n",
       "    .dataframe tbody tr th {\n",
       "        vertical-align: top;\n",
       "    }\n",
       "\n",
       "    .dataframe thead th {\n",
       "        text-align: right;\n",
       "    }\n",
       "</style>\n",
       "<table border=\"1\" class=\"dataframe\">\n",
       "  <thead>\n",
       "    <tr style=\"text-align: right;\">\n",
       "      <th></th>\n",
       "      <th>vals</th>\n",
       "      <th>count</th>\n",
       "    </tr>\n",
       "  </thead>\n",
       "  <tbody>\n",
       "    <tr>\n",
       "      <th>0</th>\n",
       "      <td>to</td>\n",
       "      <td>63</td>\n",
       "    </tr>\n",
       "    <tr>\n",
       "      <th>1</th>\n",
       "      <td>and</td>\n",
       "      <td>52</td>\n",
       "    </tr>\n",
       "    <tr>\n",
       "      <th>2</th>\n",
       "      <td>in</td>\n",
       "      <td>45</td>\n",
       "    </tr>\n",
       "    <tr>\n",
       "      <th>3</th>\n",
       "      <td>a</td>\n",
       "      <td>43</td>\n",
       "    </tr>\n",
       "    <tr>\n",
       "      <th>4</th>\n",
       "      <td>the</td>\n",
       "      <td>39</td>\n",
       "    </tr>\n",
       "    <tr>\n",
       "      <th>...</th>\n",
       "      <td>...</td>\n",
       "      <td>...</td>\n",
       "    </tr>\n",
       "    <tr>\n",
       "      <th>659</th>\n",
       "      <td>WA,</td>\n",
       "      <td>1</td>\n",
       "    </tr>\n",
       "    <tr>\n",
       "      <th>660</th>\n",
       "      <td>Structural</td>\n",
       "      <td>1</td>\n",
       "    </tr>\n",
       "    <tr>\n",
       "      <th>661</th>\n",
       "      <td>reputable</td>\n",
       "      <td>1</td>\n",
       "    </tr>\n",
       "    <tr>\n",
       "      <th>662</th>\n",
       "      <td>Piping,</td>\n",
       "      <td>1</td>\n",
       "    </tr>\n",
       "    <tr>\n",
       "      <th>663</th>\n",
       "      <td>starts</td>\n",
       "      <td>1</td>\n",
       "    </tr>\n",
       "  </tbody>\n",
       "</table>\n",
       "<p>664 rows × 2 columns</p>\n",
       "</div>"
      ],
      "text/plain": [
       "           vals  count\n",
       "0            to     63\n",
       "1           and     52\n",
       "2            in     45\n",
       "3             a     43\n",
       "4           the     39\n",
       "..          ...    ...\n",
       "659         WA,      1\n",
       "660  Structural      1\n",
       "661   reputable      1\n",
       "662     Piping,      1\n",
       "663      starts      1\n",
       "\n",
       "[664 rows x 2 columns]"
      ]
     },
     "execution_count": 15,
     "metadata": {},
     "output_type": "execute_result"
    }
   ],
   "source": [
    "seek_count"
   ]
  },
  {
   "cell_type": "markdown",
   "id": "e0551256",
   "metadata": {},
   "source": [
    "### Create dataframes for tables\n",
    "\n",
    "-----"
   ]
  },
  {
   "cell_type": "markdown",
   "id": "2ea92146",
   "metadata": {},
   "source": [
    "### Connect to postgres and load data to db\n",
    "\n",
    "-----"
   ]
  },
  {
   "cell_type": "code",
   "execution_count": null,
   "id": "91be2cf6",
   "metadata": {},
   "outputs": [],
   "source": []
  },
  {
   "cell_type": "code",
   "execution_count": null,
   "id": "b0a0cdd3",
   "metadata": {},
   "outputs": [],
   "source": []
  }
 ],
 "metadata": {
  "kernelspec": {
   "display_name": "Python 3 (ipykernel)",
   "language": "python",
   "name": "python3"
  },
  "language_info": {
   "codemirror_mode": {
    "name": "ipython",
    "version": 3
   },
   "file_extension": ".py",
   "mimetype": "text/x-python",
   "name": "python",
   "nbconvert_exporter": "python",
   "pygments_lexer": "ipython3",
   "version": "3.7.7"
  },
  "vscode": {
   "interpreter": {
    "hash": "42f11aff1c057812df87c774017a60518f744b69b0401caac01fc7867a42b09d"
   }
  }
 },
 "nbformat": 4,
 "nbformat_minor": 5
}
