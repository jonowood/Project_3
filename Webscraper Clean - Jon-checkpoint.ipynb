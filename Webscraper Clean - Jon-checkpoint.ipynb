{
 "cells": [
  {
   "cell_type": "markdown",
   "id": "cff96d87",
   "metadata": {},
   "source": [
    "Import Depencies"
   ]
  },
  {
   "cell_type": "code",
   "execution_count": 1,
   "id": "b7258efc",
   "metadata": {},
   "outputs": [],
   "source": [
    "from bs4 import BeautifulSoup\n",
    "import requests\n",
    "import os\n",
    "import pandas as pd\n",
    "import numpy as np"
   ]
  },
  {
   "cell_type": "markdown",
   "id": "b49d956a",
   "metadata": {},
   "source": [
    "Set header to circumvent webscraping blocker"
   ]
  },
  {
   "cell_type": "code",
   "execution_count": 2,
   "id": "5fed3c25",
   "metadata": {},
   "outputs": [],
   "source": [
    "headers = {\n",
    "    \"User-agent\": \"Mozilla/5.0 (X11; Linux x86_64) AppleWebKit/537.36 (KHTML, like Gecko) Chrome/77.0.3865.120 Safari/537.36\"}"
   ]
  },
  {
   "cell_type": "markdown",
   "id": "eec40e3c",
   "metadata": {},
   "source": [
    "Create lists to store **responses**"
   ]
  },
  {
   "cell_type": "code",
   "execution_count": 3,
   "id": "2f496473",
   "metadata": {},
   "outputs": [],
   "source": [
    "# data to scrape\n",
    "job_title = []\n",
    "company_name = []\n",
    "short_description = []\n",
    "job_location = []\n",
    "job_classification = []\n",
    "job_subclassification = []\n",
    "\n",
    "job_counter = 0"
   ]
  },
  {
   "cell_type": "markdown",
   "id": "c1fbb1c5",
   "metadata": {},
   "source": [
    "Scrape the website "
   ]
  },
  {
   "cell_type": "code",
   "execution_count": 4,
   "id": "ec4eb334",
   "metadata": {},
   "outputs": [],
   "source": [
    "url = 'https://www.seek.com.au/jobs-in-construction/in-All-Perth-WA'\n",
    "response = requests.get(url)\n",
    "soup = BeautifulSoup(response.content, features='html.parser')\n",
    "jobs_on_page = soup('article')"
   ]
  },
  {
   "cell_type": "markdown",
   "id": "12fc20a1",
   "metadata": {},
   "source": [
    "Create list of job fields"
   ]
  },
  {
   "cell_type": "code",
   "execution_count": 5,
   "id": "74199a2a",
   "metadata": {},
   "outputs": [],
   "source": [
    "job_field = ['construction', 'engineering', 'healthcare-medical', 'sales']"
   ]
  },
  {
   "cell_type": "markdown",
   "id": "526ffc23",
   "metadata": {},
   "source": [
    "Scrape data"
   ]
  },
  {
   "cell_type": "code",
   "execution_count": 6,
   "id": "2de62712",
   "metadata": {},
   "outputs": [
    {
     "name": "stdout",
     "output_type": "stream",
     "text": [
      "Jobs scraped: 88\r"
     ]
    }
   ],
   "source": [
    "for x in job_field: \n",
    "    url = 'https://www.seek.com.au/jobs-in-' + x + '/in-All-Perth-WA'\n",
    "    response = requests.get(url)\n",
    "    soup = BeautifulSoup(response.content, features='html.parser')\n",
    "    jobs_on_page = soup('article')\n",
    "        \n",
    "    for i in range(len(jobs_on_page)):\n",
    "\n",
    "                job_counter += 1\n",
    "                \n",
    "                job_title.append(soup('article')[i]['aria-label'])\n",
    "\n",
    "                short_description.append(soup('article')[i].find('span', {'data-automation':'jobShortDescription'}).text)\n",
    "                job_location.append(soup('article')[i].find('a', {'data-automation':'jobLocation'}).text)\n",
    "                job_subclassification.append(soup('article')[i].find('a', {'data-automation':'jobSubClassification'}).text)\n",
    "                job_classification.append(soup('article')[i].find('a', {'data-automation':'jobClassification'}).text)\n",
    "                \n",
    "                print('Jobs scraped: %d' % job_counter, end='\\r')\n",
    "                \n",
    "                try:\n",
    "                    company_name.append(soup('article')[i].find('a', {'data-automation':'jobCompany'}).text)\n",
    "                except:\n",
    "                    company_name.append(np.nan)\n"
   ]
  },
  {
   "cell_type": "markdown",
   "id": "62c9033d",
   "metadata": {},
   "source": [
    "-------"
   ]
  },
  {
   "cell_type": "markdown",
   "id": "f73cccde",
   "metadata": {},
   "source": [
    "## Columns \n",
    "\n",
    "1.\tJob title\n",
    "2.\tCompany\n",
    "3.\tDescription\n",
    "4.\tLocation\n"
   ]
  },
  {
   "cell_type": "code",
   "execution_count": 7,
   "id": "8f9dc2e7",
   "metadata": {},
   "outputs": [
    {
     "name": "stdout",
     "output_type": "stream",
     "text": [
      "88\n",
      "88\n",
      "88\n"
     ]
    }
   ],
   "source": [
    "print(len(company_name))\n",
    "print(len(job_title))\n",
    "print(len(short_description))"
   ]
  },
  {
   "cell_type": "code",
   "execution_count": 8,
   "id": "931b7cc9",
   "metadata": {},
   "outputs": [],
   "source": [
    "first_data = {'job_title': job_title,\n",
    "            'company_name': company_name,\n",
    "            'short_description': short_description,\n",
    "            'job_location': job_location,\n",
    "            'job_classification': job_classification,\n",
    "            'job_subclassification': job_subclassification\n",
    "             }"
   ]
  },
  {
   "cell_type": "code",
   "execution_count": 9,
   "id": "190a74ab",
   "metadata": {},
   "outputs": [
    {
     "data": {
      "text/html": [
       "<div>\n",
       "<style scoped>\n",
       "    .dataframe tbody tr th:only-of-type {\n",
       "        vertical-align: middle;\n",
       "    }\n",
       "\n",
       "    .dataframe tbody tr th {\n",
       "        vertical-align: top;\n",
       "    }\n",
       "\n",
       "    .dataframe thead th {\n",
       "        text-align: right;\n",
       "    }\n",
       "</style>\n",
       "<table border=\"1\" class=\"dataframe\">\n",
       "  <thead>\n",
       "    <tr style=\"text-align: right;\">\n",
       "      <th></th>\n",
       "      <th>job_title</th>\n",
       "      <th>company_name</th>\n",
       "      <th>short_description</th>\n",
       "      <th>job_location</th>\n",
       "      <th>job_classification</th>\n",
       "      <th>job_subclassification</th>\n",
       "    </tr>\n",
       "  </thead>\n",
       "  <tbody>\n",
       "    <tr>\n",
       "      <th>count</th>\n",
       "      <td>88</td>\n",
       "      <td>86</td>\n",
       "      <td>88</td>\n",
       "      <td>88</td>\n",
       "      <td>88</td>\n",
       "      <td>88</td>\n",
       "    </tr>\n",
       "    <tr>\n",
       "      <th>unique</th>\n",
       "      <td>81</td>\n",
       "      <td>75</td>\n",
       "      <td>85</td>\n",
       "      <td>29</td>\n",
       "      <td>4</td>\n",
       "      <td>26</td>\n",
       "    </tr>\n",
       "    <tr>\n",
       "      <th>top</th>\n",
       "      <td>Graduate Engineer</td>\n",
       "      <td>Cleanaway Operations Pty Ltd</td>\n",
       "      <td>Provide key single point account management wi...</td>\n",
       "      <td>Perth WA</td>\n",
       "      <td>Healthcare &amp; Medical</td>\n",
       "      <td>Medical Administration</td>\n",
       "    </tr>\n",
       "    <tr>\n",
       "      <th>freq</th>\n",
       "      <td>3</td>\n",
       "      <td>4</td>\n",
       "      <td>3</td>\n",
       "      <td>36</td>\n",
       "      <td>22</td>\n",
       "      <td>9</td>\n",
       "    </tr>\n",
       "  </tbody>\n",
       "</table>\n",
       "</div>"
      ],
      "text/plain": [
       "                job_title                  company_name  \\\n",
       "count                  88                            86   \n",
       "unique                 81                            75   \n",
       "top     Graduate Engineer  Cleanaway Operations Pty Ltd   \n",
       "freq                    3                             4   \n",
       "\n",
       "                                        short_description job_location  \\\n",
       "count                                                  88           88   \n",
       "unique                                                 85           29   \n",
       "top     Provide key single point account management wi...     Perth WA   \n",
       "freq                                                    3           36   \n",
       "\n",
       "          job_classification   job_subclassification  \n",
       "count                     88                      88  \n",
       "unique                     4                      26  \n",
       "top     Healthcare & Medical  Medical Administration  \n",
       "freq                      22                       9  "
      ]
     },
     "execution_count": 9,
     "metadata": {},
     "output_type": "execute_result"
    }
   ],
   "source": [
    "first_data_df = pd.DataFrame(first_data)\n",
    "first_data_df.describe()"
   ]
  },
  {
   "cell_type": "markdown",
   "id": "5baf9e33",
   "metadata": {},
   "source": [
    "### Count words to plot\n",
    "\n",
    "-----"
   ]
  },
  {
   "cell_type": "code",
   "execution_count": 10,
   "id": "84b19b21",
   "metadata": {},
   "outputs": [],
   "source": [
    "# count, tally and describe words in short_description\n",
    "\n",
    "description_count_df = (first_data_df['short_description'].str.split(expand=True)\n",
    "              .stack()\n",
    "              .value_counts()\n",
    "              .rename_axis('vals')\n",
    "              .reset_index(name='count'))"
   ]
  },
  {
   "cell_type": "code",
   "execution_count": 11,
   "id": "d8093ee0",
   "metadata": {},
   "outputs": [
    {
     "data": {
      "text/html": [
       "<div>\n",
       "<style scoped>\n",
       "    .dataframe tbody tr th:only-of-type {\n",
       "        vertical-align: middle;\n",
       "    }\n",
       "\n",
       "    .dataframe tbody tr th {\n",
       "        vertical-align: top;\n",
       "    }\n",
       "\n",
       "    .dataframe thead th {\n",
       "        text-align: right;\n",
       "    }\n",
       "</style>\n",
       "<table border=\"1\" class=\"dataframe\">\n",
       "  <thead>\n",
       "    <tr style=\"text-align: right;\">\n",
       "      <th></th>\n",
       "      <th>vals</th>\n",
       "      <th>count</th>\n",
       "    </tr>\n",
       "  </thead>\n",
       "  <tbody>\n",
       "    <tr>\n",
       "      <th>0</th>\n",
       "      <td>and</td>\n",
       "      <td>57</td>\n",
       "    </tr>\n",
       "    <tr>\n",
       "      <th>1</th>\n",
       "      <td>to</td>\n",
       "      <td>54</td>\n",
       "    </tr>\n",
       "    <tr>\n",
       "      <th>2</th>\n",
       "      <td>a</td>\n",
       "      <td>53</td>\n",
       "    </tr>\n",
       "    <tr>\n",
       "      <th>3</th>\n",
       "      <td>the</td>\n",
       "      <td>41</td>\n",
       "    </tr>\n",
       "    <tr>\n",
       "      <th>4</th>\n",
       "      <td>in</td>\n",
       "      <td>37</td>\n",
       "    </tr>\n",
       "    <tr>\n",
       "      <th>...</th>\n",
       "      <td>...</td>\n",
       "      <td>...</td>\n",
       "    </tr>\n",
       "    <tr>\n",
       "      <th>702</th>\n",
       "      <td>performing</td>\n",
       "      <td>1</td>\n",
       "    </tr>\n",
       "    <tr>\n",
       "      <th>703</th>\n",
       "      <td>outback</td>\n",
       "      <td>1</td>\n",
       "    </tr>\n",
       "    <tr>\n",
       "      <th>704</th>\n",
       "      <td>Venture</td>\n",
       "      <td>1</td>\n",
       "    </tr>\n",
       "    <tr>\n",
       "      <th>705</th>\n",
       "      <td>hospital.</td>\n",
       "      <td>1</td>\n",
       "    </tr>\n",
       "    <tr>\n",
       "      <th>706</th>\n",
       "      <td>territory</td>\n",
       "      <td>1</td>\n",
       "    </tr>\n",
       "  </tbody>\n",
       "</table>\n",
       "<p>707 rows × 2 columns</p>\n",
       "</div>"
      ],
      "text/plain": [
       "           vals  count\n",
       "0           and     57\n",
       "1            to     54\n",
       "2             a     53\n",
       "3           the     41\n",
       "4            in     37\n",
       "..          ...    ...\n",
       "702  performing      1\n",
       "703     outback      1\n",
       "704     Venture      1\n",
       "705   hospital.      1\n",
       "706   territory      1\n",
       "\n",
       "[707 rows x 2 columns]"
      ]
     },
     "execution_count": 11,
     "metadata": {},
     "output_type": "execute_result"
    }
   ],
   "source": [
    "description_count_df"
   ]
  },
  {
   "cell_type": "markdown",
   "id": "b17fccec",
   "metadata": {},
   "source": [
    "### Create dataframes for tables\n",
    "\n",
    "-----"
   ]
  },
  {
   "cell_type": "markdown",
   "id": "f1c6138e",
   "metadata": {},
   "source": [
    "### Connect to postgres and load data to db\n",
    "\n",
    "-----"
   ]
  },
  {
   "cell_type": "code",
   "execution_count": null,
   "id": "2d23a653",
   "metadata": {},
   "outputs": [],
   "source": []
  },
  {
   "cell_type": "code",
   "execution_count": null,
   "id": "e7f32374",
   "metadata": {},
   "outputs": [],
   "source": []
  }
 ],
 "metadata": {
  "kernelspec": {
   "display_name": "PythonData",
   "language": "python",
   "name": "python3"
  },
  "language_info": {
   "codemirror_mode": {
    "name": "ipython",
    "version": 3
   },
   "file_extension": ".py",
   "mimetype": "text/x-python",
   "name": "python",
   "nbconvert_exporter": "python",
   "pygments_lexer": "ipython3",
   "version": "3.7.7"
  },
  "vscode": {
   "interpreter": {
    "hash": "42f11aff1c057812df87c774017a60518f744b69b0401caac01fc7867a42b09d"
   }
  }
 },
 "nbformat": 4,
 "nbformat_minor": 5
}
