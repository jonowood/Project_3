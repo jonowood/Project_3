{
 "cells": [
  {
   "cell_type": "code",
   "execution_count": 1,
   "id": "05ba15cd",
   "metadata": {},
   "outputs": [],
   "source": [
    "from bs4 import BeautifulSoup\n",
    "import requests\n",
    "import os\n",
    "import pandas as pd\n",
    "import numpy as np\n",
    "import time\n",
    "\n",
    "headers = {\n",
    "     \"User-agent\": \"Mozilla/5.0 (X11; Linux x86_64) AppleWebKit/537.36 (KHTML, like Gecko) Chrome/77.0.3865.120 Safari/537.36\"\n",
    "}"
   ]
  },
  {
   "cell_type": "code",
   "execution_count": 2,
   "id": "592014a4",
   "metadata": {},
   "outputs": [],
   "source": [
    "# data to scrape\n",
    "job_title = []\n",
    "company_name = []\n",
    "short_description = []\n",
    "job_location = []\n",
    "job_classification = []\n",
    "job_subclassification = []\n",
    "\n",
    "job_counter = 0"
   ]
  },
  {
   "cell_type": "code",
   "execution_count": 3,
   "id": "9fda64a1",
   "metadata": {},
   "outputs": [],
   "source": [
    "# search for searchterm and salary to get the number of pages \n",
    "url = 'https://au.jora.com/j?sp=search&q=&l=Perth+WA'\n",
    "response = requests.get(url, headers=headers)\n",
    "soup = BeautifulSoup(response.content, features='html.parser')\n",
    "jobs_on_page = soup('article')"
   ]
  },
  {
   "cell_type": "code",
   "execution_count": 4,
   "id": "e664b6fa",
   "metadata": {},
   "outputs": [],
   "source": [
    "#jobs_on_page"
   ]
  },
  {
   "cell_type": "code",
   "execution_count": 5,
   "id": "c13517b2",
   "metadata": {},
   "outputs": [
    {
     "name": "stdout",
     "output_type": "stream",
     "text": [
      "Jobs scraped: 1\r",
      "Jobs scraped: 2\r",
      "Jobs scraped: 3\r",
      "Jobs scraped: 4\r",
      "Jobs scraped: 5\r",
      "Jobs scraped: 6\r",
      "Jobs scraped: 7\r",
      "Jobs scraped: 8\r",
      "Jobs scraped: 9\r",
      "Jobs scraped: 10\r"
     ]
    }
   ],
   "source": [
    "#### NEED TO EXPAND TO LOOP THROUGH EMPLOYMENT FIELDS\n",
    "\n",
    "for i in range(len(jobs_on_page)):\n",
    "                \n",
    "                job_counter += 1\n",
    "                \n",
    "                job_title.append(soup('article')[i].find('a', {'target':'_blank'}).text)\n",
    "                company_name.append(soup('article')[i].find('span', {'class':'job-company'}).text)\n",
    "                short_description.append(soup('article')[i].find('div', {'class':'job-abstract'}).text)\n",
    "#                job_location.append(soup('article')[i].find('div', {'class':'info-container heading-small mobile-web-redesign location-container'}).text)\n",
    "                \n",
    "#                job_location.append(soup('article')[i].select('span.job-location').text)\n",
    "\n",
    "#                job_subclassification.append(soup('article')[i].find('a', {'data-automation':'jobSubClassification'}).text)\n",
    "#                job_classification.append(soup('article')[i].find('a', {'data-automation':'jobClassification'}).text)\n",
    "#                 job_link.append(soup('article')[i].h1.a['href'])\n",
    "                \n",
    "                print('Jobs scraped: %d' % job_counter, end='\\r')\n",
    "        \n",
    "                \n",
    "#                 try:\n",
    "#                     company_name.append(soup('article')[i].find('div', {'class':'job-company'}).text)\n",
    "#                 except:\n",
    "#                     company_name.append(np.nan)\n",
    "                    \n",
    "#                 try:\n",
    "#                     job_location.append(soup('article')[i].find('div', {'class':'job-location'}).text)\n",
    "#                 except:\n",
    "#                     job_location.append(np.nan)                  "
   ]
  },
  {
   "cell_type": "code",
   "execution_count": 6,
   "id": "0819a9c7",
   "metadata": {},
   "outputs": [
    {
     "name": "stdout",
     "output_type": "stream",
     "text": [
      "10\n",
      "10\n",
      "0\n",
      "10\n"
     ]
    }
   ],
   "source": [
    "print(len(company_name))\n",
    "print(len(job_title))\n",
    "print(len(job_location))\n",
    "print(len(short_description))"
   ]
  },
  {
   "cell_type": "code",
   "execution_count": 7,
   "id": "83669199",
   "metadata": {},
   "outputs": [
    {
     "name": "stdout",
     "output_type": "stream",
     "text": [
      "[]\n"
     ]
    }
   ],
   "source": [
    "print(job_location)"
   ]
  },
  {
   "cell_type": "code",
   "execution_count": 8,
   "id": "9ece065a",
   "metadata": {},
   "outputs": [],
   "source": [
    "first_data = {'job_title': job_title,\n",
    "            'company_name': company_name,\n",
    "            'short_description': short_description\n",
    "#             'job_location': job_location,\n",
    "#             'job_classification': job_classification,\n",
    "#             'job_subclassification': job_subclassification\n",
    "             }"
   ]
  },
  {
   "cell_type": "code",
   "execution_count": 9,
   "id": "b2a7167b",
   "metadata": {},
   "outputs": [
    {
     "data": {
      "text/html": [
       "<div>\n",
       "<style scoped>\n",
       "    .dataframe tbody tr th:only-of-type {\n",
       "        vertical-align: middle;\n",
       "    }\n",
       "\n",
       "    .dataframe tbody tr th {\n",
       "        vertical-align: top;\n",
       "    }\n",
       "\n",
       "    .dataframe thead th {\n",
       "        text-align: right;\n",
       "    }\n",
       "</style>\n",
       "<table border=\"1\" class=\"dataframe\">\n",
       "  <thead>\n",
       "    <tr style=\"text-align: right;\">\n",
       "      <th></th>\n",
       "      <th>job_title</th>\n",
       "      <th>company_name</th>\n",
       "      <th>short_description</th>\n",
       "    </tr>\n",
       "  </thead>\n",
       "  <tbody>\n",
       "    <tr>\n",
       "      <th>0</th>\n",
       "      <td>Administration Support Officer (Reception)</td>\n",
       "      <td>St Stephen's School</td>\n",
       "      <td>St Stephen’s School is inviting applications f...</td>\n",
       "    </tr>\n",
       "    <tr>\n",
       "      <th>1</th>\n",
       "      <td>Immediate Start -PERTH ONLY! No Experience Nec...</td>\n",
       "      <td>The Green Army</td>\n",
       "      <td>We are currently expanding our PERTH PROMOTION...</td>\n",
       "    </tr>\n",
       "    <tr>\n",
       "      <th>2</th>\n",
       "      <td>ENTRY LEVEL SALES REPRESENTATIVE (No Experienc...</td>\n",
       "      <td>Forner Group Marketing</td>\n",
       "      <td>We work for businesses and organisations that ...</td>\n",
       "    </tr>\n",
       "    <tr>\n",
       "      <th>3</th>\n",
       "      <td>Retail Assistant - Online Picking</td>\n",
       "      <td>Iceland Foods</td>\n",
       "      <td>At Iceland we like to do things differently. W...</td>\n",
       "    </tr>\n",
       "    <tr>\n",
       "      <th>4</th>\n",
       "      <td>Customer Experience Consultant</td>\n",
       "      <td>Agency : Health Support Services</td>\n",
       "      <td>We are seeking an enthusiastic and suitably ex...</td>\n",
       "    </tr>\n",
       "    <tr>\n",
       "      <th>5</th>\n",
       "      <td>No Experience Necessary! We're looking for RET...</td>\n",
       "      <td>Forner Group Marketing</td>\n",
       "      <td>We work for businesses and organisations that ...</td>\n",
       "    </tr>\n",
       "    <tr>\n",
       "      <th>6</th>\n",
       "      <td>Administration Assistant</td>\n",
       "      <td>Barry Nilsson</td>\n",
       "      <td>An exciting opportunity has arisen for a brigh...</td>\n",
       "    </tr>\n",
       "    <tr>\n",
       "      <th>7</th>\n",
       "      <td>Receptionist</td>\n",
       "      <td>Alinta Energy</td>\n",
       "      <td>We are looking for an experienced Receptionist...</td>\n",
       "    </tr>\n",
       "    <tr>\n",
       "      <th>8</th>\n",
       "      <td>Project Support Officer</td>\n",
       "      <td>Branch : H&amp;A Maintenance</td>\n",
       "      <td>As a Project Support Officer (Level 4) you wil...</td>\n",
       "    </tr>\n",
       "    <tr>\n",
       "      <th>9</th>\n",
       "      <td>Office Administrator</td>\n",
       "      <td>Piper Preston Pty Ltd</td>\n",
       "      <td>We have a unique opportunity for an Office Adm...</td>\n",
       "    </tr>\n",
       "  </tbody>\n",
       "</table>\n",
       "</div>"
      ],
      "text/plain": [
       "                                           job_title  \\\n",
       "0         Administration Support Officer (Reception)   \n",
       "1  Immediate Start -PERTH ONLY! No Experience Nec...   \n",
       "2  ENTRY LEVEL SALES REPRESENTATIVE (No Experienc...   \n",
       "3                  Retail Assistant - Online Picking   \n",
       "4                     Customer Experience Consultant   \n",
       "5  No Experience Necessary! We're looking for RET...   \n",
       "6                           Administration Assistant   \n",
       "7                                       Receptionist   \n",
       "8                            Project Support Officer   \n",
       "9                               Office Administrator   \n",
       "\n",
       "                       company_name  \\\n",
       "0               St Stephen's School   \n",
       "1                    The Green Army   \n",
       "2            Forner Group Marketing   \n",
       "3                     Iceland Foods   \n",
       "4  Agency : Health Support Services   \n",
       "5            Forner Group Marketing   \n",
       "6                     Barry Nilsson   \n",
       "7                     Alinta Energy   \n",
       "8          Branch : H&A Maintenance   \n",
       "9             Piper Preston Pty Ltd   \n",
       "\n",
       "                                   short_description  \n",
       "0  St Stephen’s School is inviting applications f...  \n",
       "1  We are currently expanding our PERTH PROMOTION...  \n",
       "2  We work for businesses and organisations that ...  \n",
       "3  At Iceland we like to do things differently. W...  \n",
       "4  We are seeking an enthusiastic and suitably ex...  \n",
       "5  We work for businesses and organisations that ...  \n",
       "6  An exciting opportunity has arisen for a brigh...  \n",
       "7  We are looking for an experienced Receptionist...  \n",
       "8  As a Project Support Officer (Level 4) you wil...  \n",
       "9  We have a unique opportunity for an Office Adm...  "
      ]
     },
     "execution_count": 9,
     "metadata": {},
     "output_type": "execute_result"
    }
   ],
   "source": [
    "first_data_df = pd.DataFrame(first_data)\n",
    "first_data_df"
   ]
  },
  {
   "cell_type": "code",
   "execution_count": 10,
   "id": "6395dc4d",
   "metadata": {},
   "outputs": [],
   "source": [
    "# count, tally and describe words in short_description\n",
    "\n",
    "description_count_df = (first_data_df['short_description'].str.split(expand=True)\n",
    "              .stack()\n",
    "              .value_counts()\n",
    "              .rename_axis('vals')\n",
    "              .reset_index(name='count'))"
   ]
  },
  {
   "cell_type": "code",
   "execution_count": 11,
   "id": "890cf073",
   "metadata": {},
   "outputs": [
    {
     "data": {
      "text/html": [
       "<div>\n",
       "<style scoped>\n",
       "    .dataframe tbody tr th:only-of-type {\n",
       "        vertical-align: middle;\n",
       "    }\n",
       "\n",
       "    .dataframe tbody tr th {\n",
       "        vertical-align: top;\n",
       "    }\n",
       "\n",
       "    .dataframe thead th {\n",
       "        text-align: right;\n",
       "    }\n",
       "</style>\n",
       "<table border=\"1\" class=\"dataframe\">\n",
       "  <thead>\n",
       "    <tr style=\"text-align: right;\">\n",
       "      <th></th>\n",
       "      <th>vals</th>\n",
       "      <th>count</th>\n",
       "    </tr>\n",
       "  </thead>\n",
       "  <tbody>\n",
       "    <tr>\n",
       "      <th>0</th>\n",
       "      <td>and</td>\n",
       "      <td>11</td>\n",
       "    </tr>\n",
       "    <tr>\n",
       "      <th>1</th>\n",
       "      <td>We</td>\n",
       "      <td>9</td>\n",
       "    </tr>\n",
       "    <tr>\n",
       "      <th>2</th>\n",
       "      <td>a</td>\n",
       "      <td>9</td>\n",
       "    </tr>\n",
       "    <tr>\n",
       "      <th>3</th>\n",
       "      <td>to</td>\n",
       "      <td>8</td>\n",
       "    </tr>\n",
       "    <tr>\n",
       "      <th>4</th>\n",
       "      <td>for</td>\n",
       "      <td>8</td>\n",
       "    </tr>\n",
       "    <tr>\n",
       "      <th>...</th>\n",
       "      <td>...</td>\n",
       "      <td>...</td>\n",
       "    </tr>\n",
       "    <tr>\n",
       "      <th>125</th>\n",
       "      <td>PERTH</td>\n",
       "      <td>1</td>\n",
       "    </tr>\n",
       "    <tr>\n",
       "      <th>126</th>\n",
       "      <td>new</td>\n",
       "      <td>1</td>\n",
       "    </tr>\n",
       "    <tr>\n",
       "      <th>127</th>\n",
       "      <td>IMMEDIATE...</td>\n",
       "      <td>1</td>\n",
       "    </tr>\n",
       "    <tr>\n",
       "      <th>128</th>\n",
       "      <td>Reporting</td>\n",
       "      <td>1</td>\n",
       "    </tr>\n",
       "    <tr>\n",
       "      <th>129</th>\n",
       "      <td>has</td>\n",
       "      <td>1</td>\n",
       "    </tr>\n",
       "  </tbody>\n",
       "</table>\n",
       "<p>130 rows × 2 columns</p>\n",
       "</div>"
      ],
      "text/plain": [
       "             vals  count\n",
       "0             and     11\n",
       "1              We      9\n",
       "2               a      9\n",
       "3              to      8\n",
       "4             for      8\n",
       "..            ...    ...\n",
       "125         PERTH      1\n",
       "126           new      1\n",
       "127  IMMEDIATE...      1\n",
       "128     Reporting      1\n",
       "129           has      1\n",
       "\n",
       "[130 rows x 2 columns]"
      ]
     },
     "execution_count": 11,
     "metadata": {},
     "output_type": "execute_result"
    }
   ],
   "source": [
    "description_count_df"
   ]
  },
  {
   "cell_type": "code",
   "execution_count": null,
   "id": "072dc67e",
   "metadata": {},
   "outputs": [],
   "source": []
  },
  {
   "cell_type": "code",
   "execution_count": null,
   "id": "c761fcc7",
   "metadata": {},
   "outputs": [],
   "source": []
  },
  {
   "cell_type": "code",
   "execution_count": null,
   "id": "b3a2099f",
   "metadata": {},
   "outputs": [],
   "source": []
  },
  {
   "cell_type": "code",
   "execution_count": null,
   "id": "a985c77a",
   "metadata": {},
   "outputs": [],
   "source": []
  },
  {
   "cell_type": "code",
   "execution_count": null,
   "id": "89398ee3",
   "metadata": {},
   "outputs": [],
   "source": []
  }
 ],
 "metadata": {
  "kernelspec": {
   "display_name": "Python [conda env:PythonData] *",
   "language": "python",
   "name": "conda-env-PythonData-py"
  },
  "language_info": {
   "codemirror_mode": {
    "name": "ipython",
    "version": 3
   },
   "file_extension": ".py",
   "mimetype": "text/x-python",
   "name": "python",
   "nbconvert_exporter": "python",
   "pygments_lexer": "ipython3",
   "version": "3.7.7"
  }
 },
 "nbformat": 4,
 "nbformat_minor": 5
}
