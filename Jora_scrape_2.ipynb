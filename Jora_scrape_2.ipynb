{
 "cells": [
  {
   "cell_type": "code",
   "execution_count": 1,
   "id": "15b2a20a",
   "metadata": {},
   "outputs": [],
   "source": [
    "from bs4 import BeautifulSoup\n",
    "import requests\n",
    "import os\n",
    "import pandas as pd\n",
    "import numpy as np\n",
    "import time"
   ]
  },
  {
   "cell_type": "code",
   "execution_count": 2,
   "id": "7006e838",
   "metadata": {},
   "outputs": [],
   "source": [
    "# data to scrape\n",
    "job_title = []\n",
    "company_name = []\n",
    "short_description = []\n",
    "job_location = []\n",
    "job_classification = []\n",
    "job_subclassification = []\n",
    "\n",
    "job_counter = 0"
   ]
  },
  {
   "cell_type": "code",
   "execution_count": 3,
   "id": "509c43fb",
   "metadata": {},
   "outputs": [],
   "source": [
    "# search for searchterm and salary to get the number of pages \n",
    "url = 'https://au.jora.com/j?sp=search&q=&l=Perth+WA'\n",
    "response = requests.get(url)\n",
    "soup = BeautifulSoup(response.content, features='html.parser')\n",
    "jobs_on_page = soup('article')"
   ]
  },
  {
   "cell_type": "code",
   "execution_count": 7,
   "id": "9d10983f",
   "metadata": {},
   "outputs": [],
   "source": [
    "#### NEED TO EXPAND TO LOOP THROUGH EMPLOYMENT FIELDS\n",
    "\n",
    "\n",
    "\n",
    "for i in range(len(jobs_on_page)):\n",
    "                \n",
    "                job_counter += 1\n",
    "                \n",
    "                job_title.append(soup('article')[i].find('div', {'class':'top-container'}).text)\n",
    "                company_name.append(soup('article')[i].find('div', {'class':'job-company'}).text)\n",
    "#                short_description.append(soup('article')[i].find('span', {'data-automation':'jobShortDescription'}).text)\n",
    "                job_location.append(soup('article')[i].find('div', {'class':'job-location'}).text)\n",
    "#                job_subclassification.append(soup('article')[i].find('a', {'data-automation':'jobSubClassification'}).text)\n",
    "#                job_classification.append(soup('article')[i].find('a', {'data-automation':'jobClassification'}).text)\n",
    "#                 job_link.append(soup('article')[i].h1.a['href'])\n",
    "                \n",
    "                print('Jobs scraped: %d' % job_counter, end='\\r')\n",
    "        \n",
    "                \n",
    "#                 try:\n",
    "#                     job_area.append(soup('article')[i].find('a', {'data-automation': 'jobArea'}).text)\n",
    "#                 except:\n",
    "#                     job_area.append(np.nan)"
   ]
  },
  {
   "cell_type": "code",
   "execution_count": 5,
   "id": "b9638ec8",
   "metadata": {},
   "outputs": [],
   "source": [
    "# first_data = {'job_title': job_title,\n",
    "#             'company_name': company_name,\n",
    "#             'short_description': short_description,\n",
    "#             'job_location': job_location,\n",
    "#             'job_classification': job_classification,\n",
    "#             'job_subclassification': job_subclassification\n",
    "#              }"
   ]
  },
  {
   "cell_type": "code",
   "execution_count": 6,
   "id": "bfece430",
   "metadata": {},
   "outputs": [],
   "source": [
    "# first_data_df = pd.DataFrame(first_data)\n",
    "# first_data_df"
   ]
  },
  {
   "cell_type": "code",
   "execution_count": null,
   "id": "5ff0c27b",
   "metadata": {},
   "outputs": [],
   "source": []
  },
  {
   "cell_type": "code",
   "execution_count": null,
   "id": "387aad93",
   "metadata": {},
   "outputs": [],
   "source": []
  },
  {
   "cell_type": "code",
   "execution_count": null,
   "id": "258284f0",
   "metadata": {},
   "outputs": [],
   "source": []
  },
  {
   "cell_type": "code",
   "execution_count": null,
   "id": "5e09d004",
   "metadata": {},
   "outputs": [],
   "source": []
  },
  {
   "cell_type": "code",
   "execution_count": null,
   "id": "de404d44",
   "metadata": {},
   "outputs": [],
   "source": []
  },
  {
   "cell_type": "code",
   "execution_count": null,
   "id": "c1a7adeb",
   "metadata": {},
   "outputs": [],
   "source": []
  },
  {
   "cell_type": "code",
   "execution_count": null,
   "id": "3ff8d16d",
   "metadata": {},
   "outputs": [],
   "source": []
  }
 ],
 "metadata": {
  "kernelspec": {
   "display_name": "Python [conda env:PythonData] *",
   "language": "python",
   "name": "conda-env-PythonData-py"
  },
  "language_info": {
   "codemirror_mode": {
    "name": "ipython",
    "version": 3
   },
   "file_extension": ".py",
   "mimetype": "text/x-python",
   "name": "python",
   "nbconvert_exporter": "python",
   "pygments_lexer": "ipython3",
   "version": "3.7.7"
  }
 },
 "nbformat": 4,
 "nbformat_minor": 5
}
