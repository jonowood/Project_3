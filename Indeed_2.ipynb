{
 "cells": [
  {
   "cell_type": "code",
   "execution_count": 1,
   "id": "9e5066b5",
   "metadata": {},
   "outputs": [],
   "source": [
    "#install dependencies\n",
    "import urllib\n",
    "import requests\n",
    "from bs4 import BeautifulSoup\n",
    "import pandas as pd\n",
    "import numpy as np\n",
    "import os\n",
    "import time"
   ]
  },
  {
   "cell_type": "code",
   "execution_count": 2,
   "id": "ceb94134",
   "metadata": {},
   "outputs": [],
   "source": [
    "# data to scrape\n",
    "job_title = []\n",
    "company_name = []\n",
    "short_description = []\n",
    "job_location = []\n",
    "\n",
    "job_counter = 0"
   ]
  },
  {
   "cell_type": "code",
   "execution_count": 10,
   "id": "47da7395",
   "metadata": {},
   "outputs": [],
   "source": [
    "# search for term and return pages\n",
    "url = 'https://au.indeed.com/jobs?q=&l=Perth+WA&vjk=ea9c655d3228ceca'\n",
    "page = requests.get(url)\n",
    "soup = BeautifulSoup(page.content, features='html.parser')\n",
    "#jobs_on_page = soup.find_all('a', {'span':'title'})\n",
    "#jobs_on_page = soup.find_all('div') # returns one job scraped\n",
    "#jobs_on_page = soup.find_all('h2', {'class','jobTitle'})"
   ]
  },
  {
   "cell_type": "code",
   "execution_count": 11,
   "id": "e57b88c0",
   "metadata": {},
   "outputs": [
    {
     "data": {
      "text/plain": [
       "[]"
      ]
     },
     "execution_count": 11,
     "metadata": {},
     "output_type": "execute_result"
    }
   ],
   "source": [
    "# # extracting job titles\n",
    "\n",
    "\n",
    "job_title_src = soup.find_all('h2', {'class','jobTitle'})\n",
    "job_title_list = []\n",
    "\n",
    "for val in job_title_src:\n",
    "    try:\n",
    "        job_title_list.append(val.get_text())\n",
    "    except:\n",
    "        pass\n",
    "job_title_list   "
   ]
  },
  {
   "cell_type": "code",
   "execution_count": 5,
   "id": "e5e04a9f",
   "metadata": {},
   "outputs": [
    {
     "ename": "TypeError",
     "evalue": "object of type 'NoneType' has no len()",
     "output_type": "error",
     "traceback": [
      "\u001b[1;31m---------------------------------------------------------------------------\u001b[0m",
      "\u001b[1;31mTypeError\u001b[0m                                 Traceback (most recent call last)",
      "\u001b[1;32m~\\AppData\\Local\\Temp\\ipykernel_6648\\2799454240.py\u001b[0m in \u001b[0;36m<module>\u001b[1;34m\u001b[0m\n\u001b[1;32m----> 1\u001b[1;33m \u001b[1;32mfor\u001b[0m \u001b[0mi\u001b[0m \u001b[1;32min\u001b[0m \u001b[0mrange\u001b[0m\u001b[1;33m(\u001b[0m\u001b[0mlen\u001b[0m\u001b[1;33m(\u001b[0m\u001b[0mjobs_on_page\u001b[0m\u001b[1;33m)\u001b[0m\u001b[1;33m)\u001b[0m\u001b[1;33m:\u001b[0m\u001b[1;33m\u001b[0m\u001b[1;33m\u001b[0m\u001b[0m\n\u001b[0m\u001b[0;32m      2\u001b[0m \u001b[1;33m\u001b[0m\u001b[0m\n\u001b[0;32m      3\u001b[0m                 \u001b[0mjob_counter\u001b[0m \u001b[1;33m+=\u001b[0m \u001b[1;36m1\u001b[0m\u001b[1;33m\u001b[0m\u001b[1;33m\u001b[0m\u001b[0m\n\u001b[0;32m      4\u001b[0m \u001b[1;33m\u001b[0m\u001b[0m\n\u001b[0;32m      5\u001b[0m                 \u001b[0mprint\u001b[0m\u001b[1;33m(\u001b[0m\u001b[1;34m'Jobs scraped: %d'\u001b[0m \u001b[1;33m%\u001b[0m \u001b[0mjob_counter\u001b[0m\u001b[1;33m,\u001b[0m \u001b[0mend\u001b[0m\u001b[1;33m=\u001b[0m\u001b[1;34m'\\r'\u001b[0m\u001b[1;33m)\u001b[0m\u001b[1;33m\u001b[0m\u001b[1;33m\u001b[0m\u001b[0m\n",
      "\u001b[1;31mTypeError\u001b[0m: object of type 'NoneType' has no len()"
     ]
    }
   ],
   "source": [
    "for i in range(len(jobs_on_page)):\n",
    "                \n",
    "                job_counter += 1\n",
    "                \n",
    "                print('Jobs scraped: %d' % job_counter, end='\\r')\n",
    "                \n",
    "                job_title.append(soup('table')[i].find('a', {'span':'title'}).text)\n",
    "\n",
    "                company_name.append(soup('table')[i].find('span', {'class': 'companyName'}).text)\n",
    "\n",
    "#               short_description.append(soup('div')[i].find('div', {'class':'job-snippet'}))\n",
    "#               job_location.append(soup('div')[i].find('div', {'class':'companyLocation'}).get_text())\n",
    "\n",
    "                                 \n",
    "#               job_subclassification.append(soup('article')[i].find('a', {'data-automation':'jobSubClassification'}).text)\n",
    "#               job_classification.append(soup('article')[i].find('a', {'data-automation':'jobClassification'}).text)\n",
    "                \n",
    "    \n",
    "                "
   ]
  },
  {
   "cell_type": "code",
   "execution_count": null,
   "id": "2407683a",
   "metadata": {},
   "outputs": [],
   "source": [
    "first_data = {'job_title': job_title,\n",
    "            'company_name': company_name,\n",
    "            #'short_description': short_description,\n",
    "            'job_location': job_location\n",
    "            #'job_classification': job_classification,\n",
    "            #'job_subclassification': job_subclassification\n",
    "             }"
   ]
  },
  {
   "cell_type": "code",
   "execution_count": null,
   "id": "14f25ad1",
   "metadata": {},
   "outputs": [],
   "source": [
    "first_data_df = pd.DataFrame(first_data)\n",
    "first_data_df"
   ]
  }
 ],
 "metadata": {
  "kernelspec": {
   "display_name": "Python [conda env:PythonData] *",
   "language": "python",
   "name": "conda-env-PythonData-py"
  },
  "language_info": {
   "codemirror_mode": {
    "name": "ipython",
    "version": 3
   },
   "file_extension": ".py",
   "mimetype": "text/x-python",
   "name": "python",
   "nbconvert_exporter": "python",
   "pygments_lexer": "ipython3",
   "version": "3.7.7"
  }
 },
 "nbformat": 4,
 "nbformat_minor": 5
}
