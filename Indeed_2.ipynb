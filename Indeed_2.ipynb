{
 "cells": [
  {
   "cell_type": "code",
   "execution_count": 1,
   "id": "87680851",
   "metadata": {},
   "outputs": [],
   "source": [
    "#install dependencies\n",
    "import urllib\n",
    "import requests\n",
    "from bs4 import BeautifulSoup\n",
    "import pandas as pd\n",
    "import numpy as np\n",
    "import os\n",
    "import time"
   ]
  },
  {
   "cell_type": "code",
   "execution_count": 2,
   "id": "02684f50",
   "metadata": {},
   "outputs": [],
   "source": [
    "headers = {\n",
    "     \"User-agent\": \"Mozilla/5.0 (X11; Linux x86_64) AppleWebKit/537.36 (KHTML, like Gecko) Chrome/77.0.3865.120 Safari/537.36\"\n",
    "}"
   ]
  },
  {
   "cell_type": "code",
   "execution_count": 3,
   "id": "16b6ab9c",
   "metadata": {},
   "outputs": [],
   "source": [
    "# data to scrape\n",
    "job_title = []\n",
    "company_name = []\n",
    "short_description = []\n",
    "job_location = []\n",
    "\n",
    "job_counter = 0"
   ]
  },
  {
   "cell_type": "code",
   "execution_count": 19,
   "id": "826c78e0",
   "metadata": {},
   "outputs": [],
   "source": [
    "# search for term and return pages\n",
    "url = 'https://au.indeed.com/jobs?q=&l=Perth+WA&vjk=ea9c655d3228ceca'\n",
    "page = requests.get(url, headers=headers)\n",
    "soup = BeautifulSoup(page.content, features='html.parser')\n",
    "#jobs_on_page = soup.find_all('a', {'span':'title'})\n",
    "jobs_on_page = soup.find('div') # returns one job scraped\n",
    "#jobs_on_page = soup.find_all('h2', {'class','jobTitle'})\n",
    "#jobs_on_page = soup.find('div.job_seen_beacon')"
   ]
  },
  {
   "cell_type": "code",
   "execution_count": 20,
   "id": "dd656ab5",
   "metadata": {},
   "outputs": [
    {
     "ename": "AttributeError",
     "evalue": "'NoneType' object has no attribute 'text'",
     "output_type": "error",
     "traceback": [
      "\u001b[1;31m---------------------------------------------------------------------------\u001b[0m",
      "\u001b[1;31mAttributeError\u001b[0m                            Traceback (most recent call last)",
      "\u001b[1;32m~\\AppData\\Local\\Temp\\ipykernel_18592\\1650660956.py\u001b[0m in \u001b[0;36m<module>\u001b[1;34m\u001b[0m\n\u001b[0;32m      3\u001b[0m                 \u001b[0mjob_counter\u001b[0m \u001b[1;33m+=\u001b[0m \u001b[1;36m1\u001b[0m\u001b[1;33m\u001b[0m\u001b[1;33m\u001b[0m\u001b[0m\n\u001b[0;32m      4\u001b[0m \u001b[1;33m\u001b[0m\u001b[0m\n\u001b[1;32m----> 5\u001b[1;33m                 \u001b[0mjob_title\u001b[0m\u001b[1;33m.\u001b[0m\u001b[0mappend\u001b[0m\u001b[1;33m(\u001b[0m\u001b[0msoup\u001b[0m\u001b[1;33m(\u001b[0m\u001b[1;34m'div'\u001b[0m\u001b[1;33m)\u001b[0m\u001b[1;33m[\u001b[0m\u001b[0mi\u001b[0m\u001b[1;33m]\u001b[0m\u001b[1;33m.\u001b[0m\u001b[0mfind\u001b[0m\u001b[1;33m(\u001b[0m\u001b[1;34m'a'\u001b[0m\u001b[1;33m,\u001b[0m \u001b[1;33m{\u001b[0m\u001b[1;34m'target'\u001b[0m\u001b[1;33m:\u001b[0m\u001b[1;34m'_blank'\u001b[0m\u001b[1;33m}\u001b[0m\u001b[1;33m)\u001b[0m\u001b[1;33m.\u001b[0m\u001b[0mtext\u001b[0m\u001b[1;33m)\u001b[0m\u001b[1;33m\u001b[0m\u001b[1;33m\u001b[0m\u001b[0m\n\u001b[0m\u001b[0;32m      6\u001b[0m \u001b[1;31m#                    company_name.append(soup('li')[i].find('span', {'class':'job-company'}).text)\u001b[0m\u001b[1;33m\u001b[0m\u001b[1;33m\u001b[0m\u001b[1;33m\u001b[0m\u001b[0m\n\u001b[0;32m      7\u001b[0m  \u001b[1;31m#                   short_description.append(soup('li')[i].find('div', {'class':'job-abstract'}).text)\u001b[0m\u001b[1;33m\u001b[0m\u001b[1;33m\u001b[0m\u001b[1;33m\u001b[0m\u001b[0m\n",
      "\u001b[1;31mAttributeError\u001b[0m: 'NoneType' object has no attribute 'text'"
     ]
    }
   ],
   "source": [
    "    for i in range(len(jobs_on_page)):\n",
    "\n",
    "                    job_counter += 1\n",
    "\n",
    "                    job_title.append(soup('div')[i].find('a', {'target':'_blank'}).text)\n",
    "#                    company_name.append(soup('li')[i].find('span', {'class':'job-company'}).text)\n",
    " #                   short_description.append(soup('li')[i].find('div', {'class':'job-abstract'}).text)\n",
    "    #                job_location.append(soup('article')[i].find('div', {'class':'info-container heading-small mobile-web-redesign location-container'}).text)\n",
    "\n",
    "    #                job_location.append(soup('article')[i].select('span.job-location').text)\n",
    "\n",
    "    #                job_subclassification.append(soup('article')[i].find('a', {'data-automation':'jobSubClassification'}).text)\n",
    "    #                job_classification.append(soup('article')[i].find('a', {'data-automation':'jobClassification'}).text)\n",
    "    #                 job_link.append(soup('article')[i].h1.a['href'])\n",
    "\n",
    "                    print('Jobs scraped: %d' % job_counter, end='\\r')\n",
    "                \n",
    "    \n",
    "                "
   ]
  },
  {
   "cell_type": "code",
   "execution_count": 14,
   "id": "3983f421",
   "metadata": {},
   "outputs": [
    {
     "name": "stdout",
     "output_type": "stream",
     "text": [
      "0\n"
     ]
    }
   ],
   "source": [
    "#print(len(company_name))\n",
    "print(len(job_title))\n",
    "#print(len(job_location))\n",
    "#print(len(short_description))"
   ]
  },
  {
   "cell_type": "code",
   "execution_count": 8,
   "id": "9ba05279",
   "metadata": {},
   "outputs": [],
   "source": [
    "# first_data = {'job_title': job_title,\n",
    "#             'company_name': company_name,\n",
    "#             #'short_description': short_description,\n",
    "#             'job_location': job_location\n",
    "#             #'job_classification': job_classification,\n",
    "#             #'job_subclassification': job_subclassification\n",
    "#              }"
   ]
  },
  {
   "cell_type": "code",
   "execution_count": 9,
   "id": "b9761369",
   "metadata": {},
   "outputs": [],
   "source": [
    "# first_data_df = pd.DataFrame(first_data)\n",
    "# first_data_df"
   ]
  }
 ],
 "metadata": {
  "kernelspec": {
   "display_name": "Python [conda env:PythonData] *",
   "language": "python",
   "name": "conda-env-PythonData-py"
  },
  "language_info": {
   "codemirror_mode": {
    "name": "ipython",
    "version": 3
   },
   "file_extension": ".py",
   "mimetype": "text/x-python",
   "name": "python",
   "nbconvert_exporter": "python",
   "pygments_lexer": "ipython3",
   "version": "3.7.7"
  }
 },
 "nbformat": 4,
 "nbformat_minor": 5
}
