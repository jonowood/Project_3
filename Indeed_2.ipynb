{
 "cells": [
  {
   "cell_type": "code",
   "execution_count": 1,
   "id": "129aeaa3",
   "metadata": {},
   "outputs": [],
   "source": [
    "#install dependencies\n",
    "import urllib\n",
    "import requests\n",
    "from bs4 import BeautifulSoup\n",
    "import pandas as pd\n",
    "import numpy as np\n",
    "import os\n",
    "import time"
   ]
  },
  {
   "cell_type": "code",
   "execution_count": 2,
   "id": "89abefb6",
   "metadata": {},
   "outputs": [],
   "source": [
    "# data to scrape\n",
    "job_title = []\n",
    "company_name = []\n",
    "short_description = []\n",
    "job_location = []\n",
    "\n",
    "job_counter = 0"
   ]
  },
  {
   "cell_type": "code",
   "execution_count": 3,
   "id": "ad62aee3",
   "metadata": {},
   "outputs": [],
   "source": [
    "# search for term and return pages\n",
    "url = 'https://au.indeed.com/jobs?q=&l=Perth+WA&vjk=ea9c655d3228ceca'\n",
    "page = requests.get(url)\n",
    "soup = BeautifulSoup(page.content, features='html.parser')\n",
    "jobs_on_page = soup.find(id ='mosaic-jobcards')"
   ]
  },
  {
   "cell_type": "code",
   "execution_count": 4,
   "id": "dd3f6ab3",
   "metadata": {},
   "outputs": [],
   "source": [
    "#jobs_on_page"
   ]
  },
  {
   "cell_type": "code",
   "execution_count": 5,
   "id": "8fc0e932",
   "metadata": {},
   "outputs": [
    {
     "ename": "TypeError",
     "evalue": "object of type 'NoneType' has no len()",
     "output_type": "error",
     "traceback": [
      "\u001b[1;31m---------------------------------------------------------------------------\u001b[0m",
      "\u001b[1;31mTypeError\u001b[0m                                 Traceback (most recent call last)",
      "\u001b[1;32m~\\AppData\\Local\\Temp\\ipykernel_19828\\4160104322.py\u001b[0m in \u001b[0;36m<module>\u001b[1;34m\u001b[0m\n\u001b[1;32m----> 1\u001b[1;33m \u001b[1;32mfor\u001b[0m \u001b[0mi\u001b[0m \u001b[1;32min\u001b[0m \u001b[0mrange\u001b[0m\u001b[1;33m(\u001b[0m\u001b[0mlen\u001b[0m\u001b[1;33m(\u001b[0m\u001b[0mjobs_on_page\u001b[0m\u001b[1;33m)\u001b[0m\u001b[1;33m)\u001b[0m\u001b[1;33m:\u001b[0m\u001b[1;33m\u001b[0m\u001b[1;33m\u001b[0m\u001b[0m\n\u001b[0m\u001b[0;32m      2\u001b[0m \u001b[1;33m\u001b[0m\u001b[0m\n\u001b[0;32m      3\u001b[0m                 \u001b[0mjob_counter\u001b[0m \u001b[1;33m+=\u001b[0m \u001b[1;36m1\u001b[0m\u001b[1;33m\u001b[0m\u001b[1;33m\u001b[0m\u001b[0m\n\u001b[0;32m      4\u001b[0m \u001b[1;33m\u001b[0m\u001b[0m\n\u001b[0;32m      5\u001b[0m                 \u001b[0mprint\u001b[0m\u001b[1;33m(\u001b[0m\u001b[1;34m'Jobs scraped: %d'\u001b[0m \u001b[1;33m%\u001b[0m \u001b[0mjob_counter\u001b[0m\u001b[1;33m,\u001b[0m \u001b[0mend\u001b[0m\u001b[1;33m=\u001b[0m\u001b[1;34m'\\r'\u001b[0m\u001b[1;33m)\u001b[0m\u001b[1;33m\u001b[0m\u001b[1;33m\u001b[0m\u001b[0m\n",
      "\u001b[1;31mTypeError\u001b[0m: object of type 'NoneType' has no len()"
     ]
    }
   ],
   "source": [
    "for i in range(len(jobs_on_page)):\n",
    "                \n",
    "                job_counter += 1\n",
    "                \n",
    "                print('Jobs scraped: %d' % job_counter, end='\\r')\n",
    "                \n",
    "                job_title.append(soup('mosaic-jobcards')[i].find('a', {'span':'title'}).get_text())\n",
    "\n",
    "                company_name.append(soup('mosaic-jobcards')[i].find('span', {'class': 'companyName'}).get_text())\n",
    "\n",
    " #               short_description.append(soup('div')[i].find('div', {'class':'job-snippet'}))\n",
    " #               job_location.append(soup('div')[i].find('div', {'class':'companyLocation'}).get_text())\n",
    "#                 job_subclassification.append(soup('article')[i].find('a', {'data-automation':'jobSubClassification'}).text)\n",
    "#                 job_classification.append(soup('article')[i].find('a', {'data-automation':'jobClassification'}).text)\n"
   ]
  },
  {
   "cell_type": "code",
   "execution_count": null,
   "id": "a6dfd456",
   "metadata": {},
   "outputs": [],
   "source": [
    "first_data = {'job_title': job_title,\n",
    "            'company_name': company_name,\n",
    "            #'short_description': short_description,\n",
    "            'job_location': job_location\n",
    "            #'job_classification': job_classification,\n",
    "            #'job_subclassification': job_subclassification\n",
    "             }"
   ]
  },
  {
   "cell_type": "code",
   "execution_count": null,
   "id": "638d60b9",
   "metadata": {},
   "outputs": [],
   "source": [
    "first_data_df = pd.DataFrame(first_data)\n",
    "first_data_df"
   ]
  }
 ],
 "metadata": {
  "kernelspec": {
   "display_name": "Python [conda env:PythonData] *",
   "language": "python",
   "name": "conda-env-PythonData-py"
  },
  "language_info": {
   "codemirror_mode": {
    "name": "ipython",
    "version": 3
   },
   "file_extension": ".py",
   "mimetype": "text/x-python",
   "name": "python",
   "nbconvert_exporter": "python",
   "pygments_lexer": "ipython3",
   "version": "3.7.7"
  }
 },
 "nbformat": 4,
 "nbformat_minor": 5
}
