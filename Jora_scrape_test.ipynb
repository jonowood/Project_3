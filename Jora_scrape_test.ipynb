{
 "cells": [
  {
   "cell_type": "code",
   "execution_count": 1,
   "id": "67b839e3",
   "metadata": {},
   "outputs": [],
   "source": [
    " # Dependencies\n",
    "from bs4 import BeautifulSoup\n",
    "import requests\n",
    "import os"
   ]
  },
  {
   "cell_type": "code",
   "execution_count": 2,
   "id": "a2def7da",
   "metadata": {},
   "outputs": [],
   "source": [
    " # Stack Overflow URL to scrape\n",
    "url = 'https://au.jora.com/j?sp=search&q=&l=Perth+WA'\n",
    "\n",
    "# Retrieve page with the requests module\n",
    "html = requests.get(url)"
   ]
  },
  {
   "cell_type": "code",
   "execution_count": 3,
   "id": "ee84f540",
   "metadata": {},
   "outputs": [],
   "source": [
    " # Create BeautifulSoup object; parse with 'html.parser'\n",
    "soup = BeautifulSoup(html.text, 'html.parser')"
   ]
  },
  {
   "cell_type": "code",
   "execution_count": 4,
   "id": "07cea29b",
   "metadata": {},
   "outputs": [
    {
     "data": {
      "text/plain": [
       "<!DOCTYPE html>\n",
       "\n",
       "<html>\n",
       "<head>\n",
       "<title>Sorry, we'll be back soon.</title>\n",
       "<style type=\"text/css\">body{margin:10% auto 20px;width:400px;font-family:Helvetica,Arial,sans-serif;position:relative}h1,p{color:#444}p{line-height:1.5em}footer{border-top:1px solid #ccc;margin-top:40px;padding-top:10px}</style>\n",
       "<meta content=\"35\" http-equiv=\"refresh\"/>\n",
       "</head>\n",
       "<body>\n",
       "<span style=\"display:none;\"><div class=\"cf-browser-verification cf-im-under-attack\">\n",
       "<noscript>\n",
       "<h1 style=\"color:#bd2426;\">Please turn JavaScript on and reload the page.</h1>\n",
       "</noscript>\n",
       "<div id=\"cf-content\">\n",
       "<div id=\"cf-bubbles\">\n",
       "<div class=\"bubbles\"></div>\n",
       "<div class=\"bubbles\"></div>\n",
       "<div class=\"bubbles\"></div>\n",
       "</div>\n",
       "<h1>Checking your browser before accessing au.jora.com.</h1>\n",
       "<div class=\"cookie-warning\" id=\"no-cookie-warning\" style=\"display:none\">\n",
       "<p style=\"color:#bd2426;\">Please enable Cookies and reload the page</p>\n",
       "</div>\n",
       "<p>This process is automatic. Your browser will redirect to your requested content shortly.</p>\n",
       "<p id=\"cf-spinner-allow-5-secs\">Please allow up to 5 seconds...</p>\n",
       "<p id=\"cf-spinner-redirecting\" style=\"display:none\">Redirecting...</p>\n",
       "</div>\n",
       "<form action=\"/j?sp=search&amp;q=&amp;l=Perth+WA&amp;__cf_chl_f_tk=9dRqB6t0I8FG4.Jpb2QpZTf4uJxb43E6y9KqTOL3DAw-1674547994-0-gaNycGzNB1E\" class=\"challenge-form\" enctype=\"application/x-www-form-urlencoded\" id=\"challenge-form\" method=\"POST\">\n",
       "<input name=\"md\" type=\"hidden\" value=\"169q38JytME0CT4yVBn2v08oE9UZa.WFm78WsV3LPqk-1674547994-0-ASPi2-je-mqprK_DtLkCStLyiOaKCxX3IWYX23VAnUDwESlWLEL2moSTXoHENKNjwb8reQ-5ZosQqcJcs_mh9SNC7REP3QBD8_wa9z-OH-LW4E9CRvIZ1nFBtOM5Bh0XQr3AwCGgkD4wqqaksIr0lhJaQWqaCcujCzq1FlhlAkbosS7IGg4xfYyI2Sjz2l9RWHikbZU73YG6M-loXsTetNpi9Vq3piNGkqMyCBKRqShgyz12IketdQlkjRB8U0v34DfafYjK7NnYN0mePlsagkj1iYLGb_KhCCiJ3LvKdvFJLPD1TZ0I3xHZTztu_-9I5ruhdjywZMPRyXchc4LNrsJOU6u2OeuouqM-3651Nw_lqLmXcNcgwcae--FNPw0IhRz048z7GXwVUwF4EdMrCWTDPcr1wpDfDVszBwLm6l_iuDYN1LMqfcN8YHxL2iInaCMMiu_fjfToZ-zdDo1Y6ef0zM2KXQDbXymTKN08fxKFmiUqJfGjuRMenaV9AVzpMWhXfJzlKuirWu-PMY9zmtA\"/>\n",
       "<input name=\"r\" type=\"hidden\" value=\"RVOlAYe.d2NdQ4bTiLgsk0fQPWqgl.3w3rXekbLlLA8-1674547994-0-AaEHSwFAKqbIn2NEMjsdrlPBRPyYmXK1rwzDB9wIljL/ZSQF+U9qrohleMi1PsIFyua62k2XYSrTxCbwJnQIH+nfIIAOFG8np2ET/p9dgmz+733fGeC+yDgufzuQXh/59dCT6IVoUVn85LjWAcjx3PuD0xcw4+vo0AnDDIhn/zQMiwMU4xz/HdfQNZfi3r4neGeJ6AO2B+4q71TtavVbvLhfCNEUkapQkEMjl/LaAzITnFVNPCRZ0ABFgaHMXzXsy03cT7JeKd2WeT4rXhWj8VWFxIjhx1RWdRT6JjwHJC+VX5gRWp0nM4wYVxql4TiyL30pYBJbvS6m0JlpzjmTOe0Ie3Gp55mMkLpFqCn8gkj003jBQ0fcek+roU4N36kW6a7uCDt9A9ZAaB5jjn75qF6uim/PNNvZ64YUseAumdrZK7FAbSTCHdvguNd9aaGRHSUYLL1sfUpwfMdiiK2XFJW0gwAbdE+v9ye/3hak3JjPN+1KXEEqENnVvokzLvKni22z4LFu8EXu6RZCcOdBPqjk92ILGckis/2mNAbMRkUs4VpVdW3D9V3vzkU+XdNMvRJtCd2ri5PijGboUxUMltw9LfKWVyI8qweRh/d6N8PA5UdgzUZSAiX+xS1A32dfi3/B7WzlvLo+ifw9vdwm5e3f2Gin2rklVUcnzOi2YgPMy1aS0usf6YRvdWp/mdr/FIC8xGnZJHcY8YUqeX+Ed9VcCSdmh7mbOzn+SHYcJowz7qiB7gUts75alxa+L6Z3jBgL55eOoHUFm1QHeujvaM0efAuRXHK7pcQRtuPpOZNuj9WSB/+a+azf/0TKvpzVuTE+HGkG3kcBiKFqeez/kDTkL9MKGN+5nJAwpSdNM9QFHIO6Rwqm/h6SMl4ezR1QjeDqC5x3aa66Im6FkQXjd2aD1iKJZpgLd+XIb4HoBCbnUSDepFVmbotrgn0LrYyHzzDuYzlnfgQgK3cPfZY0hmXrcoNA8Ag+qyexmqB9eP81rpEj2rHRfeQFddV10saRzieDF9j++RH6sZd/z0mdamzrY4UkbspfdQ5/0FdhpZXsAlM2AmeeVuc6FkHxFDsF64nrN+2jvE3Sw8FBwqFNVTHMHnPeyWWDQc2pDtE07HwHsGXiLYm2vb5RSMVbqY+GRfeUN5uB0wJhlBlB9CM8PwLxtv/Zl50XOsMZGSQ29SR9t4fcRm2j3FDbCp1ARrYjCWhW7pydz0LLN/S3BjztMUjXGSZ2xsWpZ6JLwahYyfYK8LdL142AjP+qOa4JrCdR0aPQFNM/Wh/v+znVR7uG53RDo9L1EPCK0qr6NxfNlOOjGMKhsijJErP+T3UCPXXJU4tBO2PZEFHZLBOPBxNtvovOQQLnY3Walx9EYEreUxWqYyoWSlcxhoohKuRvfdsGipI6lsO/jL55f2J+H1aCCoZ3KRDSJYw2v7AT5Fe1YSmR8SYFre6ddIpHViPzhr4eAtN74bvFtHkti5vCKkGi625ZGcLWlpKZdLz6I0SQrMIBLZB/90rOXpQ5+1idrMN/LBsYBmAcLEsykTKoZPTbowgc4dfhEWFnq3yceoOOkwg4lXBgQ1K7OTu+wVBzpCYqTlBFxPnIr/MPjDFz2GHRGNIbA9STYWFC3srDhDzLRt2NZmyMXLl4OFnR8r+q2PjPUoK8/rN15Rx7P2Iqyp+r6B0ZGCcMVx0SkYVq7nA4sazymVhecJHBmTeq5GEeti/HP0/sWoEAZeY12CEYucd7I/gchk4a0x6YFRpyPjOpftRIuYnsBptGgUKULtINOE/C2yNeAZfb4YshjAc5QmgH6vE=\"/>\n",
       "</form>\n",
       "<div id=\"trk_jschal_js\" style=\"display:none;background-image:url('/cdn-cgi/images/trace/jsch/nojs/transparent.gif?ray=78e74f030b162d51')\"></div>\n",
       "<script>\n",
       "    (function(){\n",
       "        window._cf_chl_opt={\n",
       "            cvId: '2',\n",
       "            cZone: 'au.jora.com',\n",
       "            cType: 'non-interactive',\n",
       "            cNounce: '57492',\n",
       "            cRay: '78e74f030b162d51',\n",
       "            cHash: 'a54c28575fdec3d',\n",
       "            cUPMDTk: \"\\/j?sp=search&q=&l=Perth+WA&__cf_chl_tk=9dRqB6t0I8FG4.Jpb2QpZTf4uJxb43E6y9KqTOL3DAw-1674547994-0-gaNycGzNB1E\",\n",
       "            cFPWv: 'g',\n",
       "            cTTimeMs: '1000',\n",
       "            cMTimeMs: '30000',\n",
       "            cTplV: 1,\n",
       "            cTplB: 'cf',\n",
       "            cRq: {\n",
       "                ru: 'aHR0cHM6Ly9hdS5qb3JhLmNvbS9qP3NwPXNlYXJjaCZxPSZsPVBlcnRoK1dB',\n",
       "                ra: 'cHl0aG9uLXJlcXVlc3RzLzIuMjguMQ==',\n",
       "                rm: 'R0VU',\n",
       "                d: 'XIW05EhZ4cOkdWUpa/5RHJQRZ73Lozsqw39bv8R4scEspYoOpioaMIpzUqaDJXZsH6jSHWo8CfZdN+y1m476+R7U6n4pryqce+ttG0Z78vE0zliz+dV9fcw1K7CNdef1ErJccp0nNwIcYks0mwE30hA8YAZ7XmCTvrz7nzh+AMjyXNbEJxgXLd9jzjBG4bVTPEj7n0SaoLlqyvZmWxgHhqqndsLUkYod1fWgViBFZAE9wL9FkbGtJ71u1maxAgHfPz6hxUZVys7UAJd1H2/WOikZoR+RNUHAHW2Huo+/kwo15NHyMr7O31gxGpwHXgPUskCOWmJITAjPN7uXO0iOTd9PkY9NHsJ/MXo6BHrEAQGEiQuUXjmQMgTtnktK0HksveW7K0qNUAoaucO/MAthl+ga43ke/6NKPL36ZU5k7c+t2d787Pl59IgDempB6zVfX0a0AsWB883GyZ2bLvJvHDEP8K0poU/p44nyPtc9LeY5jtr/bA342s+Ys7a8dBrJUUTlqla2JvU18Aq/lNLYFRIlAQKoNXx54hn5x/VeL9JcKgvAbV/WDN9w0QMTh4tDG4Z/LcyemJElwu3DbD2YddDu2EsESXaHVtjLTtprEeJnGsIvKO2C24ny0CLIzwZg0GvVyoop2VgmdsURzg50LqYIXi/jFKRLToRWcLg8vTc=',\n",
       "                t: 'MTY3NDU0Nzk5NC4wOTAwMDA=',\n",
       "                m: 'b53xTwCSL8Ucn/DcOVY47s2IfJRE3xcK+Fd5YqYrixc=',\n",
       "                i1: 'e/ZpCo/iFwzeB43M9DjlGQ==',\n",
       "                i2: 'ILvYIe3d3TYVKzxxHFbXbA==',\n",
       "                zh: 'NVvztg9nQ8f1o1vrN1rrRlfxUH0dGXGg+Oz/F0eCwIQ=',\n",
       "                uh: 'SLdVolODg++SO356HusO5I/hbfOpiiOxQXj62i/MUkA=',\n",
       "                hh: '2HMtA2jaFVGddFjtAvivQlrk4oV4CvZ8XIVFrV1nJwI=',\n",
       "            }\n",
       "        };\n",
       "        var trkjs = document.createElement('img');\n",
       "        trkjs.setAttribute('src', '/cdn-cgi/images/trace/jsch/js/transparent.gif?ray=78e74f030b162d51');\n",
       "        trkjs.setAttribute('style', 'display: none');\n",
       "        document.body.appendChild(trkjs);\n",
       "        var cpo = document.createElement('script');\n",
       "        cpo.src = '/cdn-cgi/challenge-platform/h/g/orchestrate/jsch/v1?ray=78e74f030b162d51';\n",
       "        window._cf_chl_opt.cOgUHash = location.hash === '' && location.href.indexOf('#') !== -1 ? '#' : location.hash;\n",
       "        window._cf_chl_opt.cOgUQuery = location.search === '' && location.href.slice(0, -window._cf_chl_opt.cOgUHash.length).indexOf('?') !== -1 ? '?' : location.search;\n",
       "        if (window.history && window.history.replaceState) {\n",
       "            var ogU = location.pathname + window._cf_chl_opt.cOgUQuery + window._cf_chl_opt.cOgUHash;\n",
       "            history.replaceState(null, null, \"\\/j?sp=search&q=&l=Perth+WA&__cf_chl_rt_tk=9dRqB6t0I8FG4.Jpb2QpZTf4uJxb43E6y9KqTOL3DAw-1674547994-0-gaNycGzNB1E\" + window._cf_chl_opt.cOgUHash);\n",
       "            cpo.onload = function() {\n",
       "                history.replaceState(null, null, ogU);\n",
       "            };\n",
       "        }\n",
       "        document.getElementsByTagName('head')[0].appendChild(cpo);\n",
       "    }());\n",
       "</script>\n",
       "</div>\n",
       "</span>\n",
       "<h1>We'll be back soon</h1>\n",
       "<p>\n",
       "  We're sorry, but Jora is currently experiencing a problem. We appreciate your patience, and we're working hard to get it back online.\n",
       "</p>\n",
       "<footer>\n",
       "  Jora Team\n",
       "</footer>\n",
       "</body>\n",
       "</html>"
      ]
     },
     "execution_count": 4,
     "metadata": {},
     "output_type": "execute_result"
    }
   ],
   "source": [
    "soup"
   ]
  }
 ],
 "metadata": {
  "kernelspec": {
   "display_name": "Python [conda env:PythonData] *",
   "language": "python",
   "name": "conda-env-PythonData-py"
  },
  "language_info": {
   "codemirror_mode": {
    "name": "ipython",
    "version": 3
   },
   "file_extension": ".py",
   "mimetype": "text/x-python",
   "name": "python",
   "nbconvert_exporter": "python",
   "pygments_lexer": "ipython3",
   "version": "3.7.7"
  }
 },
 "nbformat": 4,
 "nbformat_minor": 5
}
