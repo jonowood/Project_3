{
 "cells": [
  {
   "cell_type": "markdown",
<<<<<<< Updated upstream
   "id": "4de5e88c",
=======
   "id": "1cbe7cde",
>>>>>>> Stashed changes
   "metadata": {},
   "source": [
    "Import Depencies"
   ]
  },
  {
   "cell_type": "code",
<<<<<<< Updated upstream
   "execution_count": 1,
   "id": "bf224506",
=======
   "execution_count": 17,
   "id": "b2db56aa",
>>>>>>> Stashed changes
   "metadata": {},
   "outputs": [],
   "source": [
    "from bs4 import BeautifulSoup\n",
    "import requests\n",
    "import os\n",
    "import pandas as pd\n",
    "import numpy as np\n",
    "import time"
   ]
  },
  {
   "cell_type": "markdown",
   "id": "3dec27e6",
   "metadata": {},
   "source": [
    "Set header to circumvent webscraping blocker"
   ]
  },
  {
   "cell_type": "code",
   "execution_count": 18,
   "id": "444433ee",
   "metadata": {},
   "outputs": [],
   "source": [
    "headers = {\n",
    "    \"User-agent\": \"Mozilla/5.0 (X11; Linux x86_64) AppleWebKit/537.36 (KHTML, like Gecko) Chrome/77.0.3865.120 Safari/537.36\"}"
   ]
  },
  {
   "cell_type": "markdown",
   "id": "a72ef628",
   "metadata": {},
   "source": [
    "Create lists to store **responses**"
   ]
  },
  {
   "cell_type": "code",
<<<<<<< Updated upstream
   "execution_count": 2,
   "id": "c1a98461",
=======
   "execution_count": 19,
   "id": "fb1195a7",
>>>>>>> Stashed changes
   "metadata": {},
   "outputs": [],
   "source": [
    "# data to scrape\n",
    "job_title = []\n",
    "company_name = []\n",
    "short_description = []\n",
    "job_location = []\n",
    "job_classification = []\n",
    "job_subclassification = []\n",
    "\n",
    "job_counter = 0"
   ]
  },
  {
   "cell_type": "markdown",
   "id": "882d26b1",
   "metadata": {},
   "source": [
    "Scrape the website "
   ]
  },
  {
   "cell_type": "code",
<<<<<<< Updated upstream
   "execution_count": 3,
   "id": "94151212",
=======
   "execution_count": 20,
   "id": "d648f5ee",
>>>>>>> Stashed changes
   "metadata": {},
   "outputs": [],
   "source": [
    "url = 'https://www.seek.com.au/jobs-in-construction/in-All-Perth-WA'\n",
    "response = requests.get(url)\n",
    "soup = BeautifulSoup(response.content, features='html.parser')\n",
    "jobs_on_page = soup('article')"
   ]
  },
  {
   "cell_type": "markdown",
   "id": "b55d1eda",
   "metadata": {},
   "source": [
    "Create list of job fields"
   ]
  },
  {
   "cell_type": "code",
   "execution_count": 21,
   "id": "e4a288e0",
   "metadata": {},
   "outputs": [],
   "source": [
    "job_field = ['construction', 'engineering', 'healthcare-medical', 'sales']"
   ]
  },
  {
   "cell_type": "markdown",
   "id": "dfad9406",
   "metadata": {},
   "source": [
    "Scrape data"
   ]
  },
  {
   "cell_type": "code",
<<<<<<< Updated upstream
   "execution_count": 4,
   "id": "ab652fcb",
=======
   "execution_count": 22,
   "id": "ef1f66a2",
>>>>>>> Stashed changes
   "metadata": {},
   "outputs": [
    {
     "name": "stdout",
     "output_type": "stream",
     "text": [
<<<<<<< Updated upstream
      "Jobs scraped: 1\r",
      "Jobs scraped: 2\r",
      "Jobs scraped: 3\r",
      "Jobs scraped: 4\r",
      "Jobs scraped: 5\r",
      "Jobs scraped: 6\r",
      "Jobs scraped: 7\r",
      "Jobs scraped: 8\r",
      "Jobs scraped: 9\r",
      "Jobs scraped: 10\r",
      "Jobs scraped: 11\r",
      "Jobs scraped: 12\r",
      "Jobs scraped: 13\r",
      "Jobs scraped: 14\r",
      "Jobs scraped: 15\r",
      "Jobs scraped: 16\r",
      "Jobs scraped: 17\r",
      "Jobs scraped: 18\r",
      "Jobs scraped: 19\r",
      "Jobs scraped: 20\r",
      "Jobs scraped: 21\r",
      "Jobs scraped: 22\r"
=======
      "Jobs scraped: 88\r"
>>>>>>> Stashed changes
     ]
    }
   ],
   "source": [
    "for x in job_field: \n",
    "    url = 'https://www.seek.com.au/jobs-in-' + x + '/in-All-Perth-WA'\n",
    "    response = requests.get(url)\n",
    "    soup = BeautifulSoup(response.content, features='html.parser')\n",
    "    jobs_on_page = soup('article')\n",
    "        \n",
    "    for i in range(len(jobs_on_page)):\n",
    "\n",
    "                job_counter += 1\n",
    "                \n",
    "                job_title.append(soup('article')[i]['aria-label'])\n",
    "\n",
    "                short_description.append(soup('article')[i].find('span', {'data-automation':'jobShortDescription'}).text)\n",
    "                job_location.append(soup('article')[i].find('a', {'data-automation':'jobLocation'}).text)\n",
    "                job_subclassification.append(soup('article')[i].find('a', {'data-automation':'jobSubClassification'}).text)\n",
    "                job_classification.append(soup('article')[i].find('a', {'data-automation':'jobClassification'}).text)\n",
    "                \n",
    "                print('Jobs scraped: %d' % job_counter, end='\\r')\n",
    "                \n",
    "                try:\n",
    "                    company_name.append(soup('article')[i].find('a', {'data-automation':'jobCompany'}).text)\n",
    "                except:\n",
    "                    company_name.append(np.nan)\n"
   ]
  },
  {
   "cell_type": "markdown",
<<<<<<< Updated upstream
   "id": "63a5a338",
=======
   "id": "100f98a4",
   "metadata": {},
   "source": [
    "-------"
   ]
  },
  {
   "cell_type": "markdown",
   "id": "460e743b",
>>>>>>> Stashed changes
   "metadata": {},
   "source": [
    "## Columns \n",
    "\n",
    "1.\tJob title\n",
    "2.\tCompany\n",
    "3.\tDescription\n",
    "4.\tLocation\n"
   ]
  },
  {
   "cell_type": "code",
<<<<<<< Updated upstream
   "execution_count": 5,
   "id": "d8a3bd92",
=======
   "execution_count": 23,
   "id": "cde4c4b6",
>>>>>>> Stashed changes
   "metadata": {},
   "outputs": [
    {
     "name": "stdout",
     "output_type": "stream",
     "text": [
      "88\n",
      "88\n",
      "88\n"
     ]
    }
   ],
   "source": [
    "print(len(company_name))\n",
    "print(len(job_title))\n",
    "print(len(short_description))"
   ]
  },
  {
   "cell_type": "code",
<<<<<<< Updated upstream
   "execution_count": 6,
   "id": "f8079e20",
=======
   "execution_count": 24,
   "id": "db7dd2f9",
>>>>>>> Stashed changes
   "metadata": {},
   "outputs": [],
   "source": [
    "first_data = {'job_title': job_title,\n",
    "            'company_name': company_name,\n",
    "            'short_description': short_description,\n",
    "            'job_location': job_location,\n",
    "            'job_classification': job_classification,\n",
    "            'job_subclassification': job_subclassification\n",
    "             }"
   ]
  },
  {
   "cell_type": "code",
<<<<<<< Updated upstream
   "execution_count": 7,
   "id": "a3629587",
=======
   "execution_count": 25,
   "id": "771ef43a",
>>>>>>> Stashed changes
   "metadata": {},
   "outputs": [
    {
     "data": {
      "text/html": [
       "<div>\n",
       "<style scoped>\n",
       "    .dataframe tbody tr th:only-of-type {\n",
       "        vertical-align: middle;\n",
       "    }\n",
       "\n",
       "    .dataframe tbody tr th {\n",
       "        vertical-align: top;\n",
       "    }\n",
       "\n",
       "    .dataframe thead th {\n",
       "        text-align: right;\n",
       "    }\n",
       "</style>\n",
       "<table border=\"1\" class=\"dataframe\">\n",
       "  <thead>\n",
       "    <tr style=\"text-align: right;\">\n",
       "      <th></th>\n",
       "      <th>job_title</th>\n",
       "      <th>company_name</th>\n",
       "      <th>short_description</th>\n",
       "      <th>job_location</th>\n",
       "      <th>job_classification</th>\n",
       "      <th>job_subclassification</th>\n",
       "    </tr>\n",
       "  </thead>\n",
       "  <tbody>\n",
       "    <tr>\n",
<<<<<<< Updated upstream
       "      <th>0</th>\n",
       "      <td>Precast Concrete Production Supervisor</td>\n",
       "      <td>Cascada</td>\n",
       "      <td>We're looking for a leader with concrete exper...</td>\n",
       "      <td>Malaga</td>\n",
       "      <td>Construction</td>\n",
       "      <td>Foreperson/Supervisors</td>\n",
       "    </tr>\n",
       "    <tr>\n",
       "      <th>1</th>\n",
       "      <td>Bobcat and Truck Driver</td>\n",
       "      <td>SRF Earthmoving</td>\n",
       "      <td>Join our team of highly skilled Operators in M...</td>\n",
       "      <td>Maddington</td>\n",
       "      <td>Construction</td>\n",
       "      <td>Plant &amp; Machinery Operators</td>\n",
       "    </tr>\n",
       "    <tr>\n",
       "      <th>2</th>\n",
       "      <td>Residential Building Estimator/Scheduler</td>\n",
       "      <td>NaN</td>\n",
       "      <td>Building Estimator: An opportunity exists for ...</td>\n",
       "      <td>Rivervale</td>\n",
       "      <td>Construction</td>\n",
       "      <td>Estimating</td>\n",
       "    </tr>\n",
       "    <tr>\n",
       "      <th>3</th>\n",
       "      <td>Trainee Supervisor</td>\n",
       "      <td>Summit Homes Group</td>\n",
       "      <td>We have an exciting and rare opportunity to jo...</td>\n",
       "      <td>Myaree</td>\n",
       "      <td>Construction</td>\n",
       "      <td>Foreperson/Supervisors</td>\n",
       "    </tr>\n",
       "    <tr>\n",
       "      <th>4</th>\n",
       "      <td>New Home Administrator</td>\n",
       "      <td>JWH Group Pty Ltd</td>\n",
       "      <td>Residential Attitudes is seeking an ambitious ...</td>\n",
       "      <td>Osborne Park</td>\n",
       "      <td>Construction</td>\n",
       "      <td>Contracts Management</td>\n",
       "    </tr>\n",
       "    <tr>\n",
       "      <th>5</th>\n",
       "      <td>Construction Project Coordinator / Supervisor</td>\n",
       "      <td>WorkPac – Technical Professional</td>\n",
       "      <td>Excellent full time, permanent opportunity for...</td>\n",
       "      <td>Perth WA</td>\n",
       "      <td>Construction</td>\n",
       "      <td>Project Management</td>\n",
       "    </tr>\n",
       "    <tr>\n",
       "      <th>6</th>\n",
       "      <td>Assistant Project Management</td>\n",
       "      <td>LachWil</td>\n",
       "      <td>Project Management and Project Controls\\nExcit...</td>\n",
       "      <td>Perth WA</td>\n",
       "      <td>Construction</td>\n",
       "      <td>Project Management</td>\n",
       "    </tr>\n",
       "    <tr>\n",
       "      <th>7</th>\n",
       "      <td>Site Supervisor NORTH (Residential)</td>\n",
       "      <td>Shelford Constructions</td>\n",
       "      <td>Shelford Quality Homes is seeking an experienc...</td>\n",
       "      <td>Perth WA</td>\n",
       "      <td>Construction</td>\n",
       "      <td>Foreperson/Supervisors</td>\n",
       "    </tr>\n",
       "    <tr>\n",
       "      <th>8</th>\n",
       "      <td>Skilled Labourers - HWA</td>\n",
       "      <td>NRW Pty Ltd</td>\n",
       "      <td>Join us at NRW and get the opportunity to work...</td>\n",
       "      <td>Perth WA</td>\n",
       "      <td>Construction</td>\n",
       "      <td>Other</td>\n",
       "    </tr>\n",
       "    <tr>\n",
       "      <th>9</th>\n",
       "      <td>Expression of Interest - Graduate Program Cons...</td>\n",
       "      <td>Monadelphous</td>\n",
       "      <td>It all starts here - August 2023 and February ...</td>\n",
       "      <td>Perth WA</td>\n",
       "      <td>Construction</td>\n",
       "      <td>Project Management</td>\n",
       "    </tr>\n",
       "    <tr>\n",
       "      <th>10</th>\n",
       "      <td>Assistant Project Manager</td>\n",
       "      <td>Bright Group</td>\n",
       "      <td>Your drive, integrity, and communication will ...</td>\n",
       "      <td>Perth WA</td>\n",
       "      <td>Construction</td>\n",
       "      <td>Project Management</td>\n",
       "    </tr>\n",
       "    <tr>\n",
       "      <th>11</th>\n",
       "      <td>Civil Maintenance/Plant Operators/Labourers</td>\n",
       "      <td>LO-GO Appointments WA</td>\n",
       "      <td>We are looking for Plant Operators/Labourers/C...</td>\n",
       "      <td>Perth WA</td>\n",
       "      <td>Construction</td>\n",
       "      <td>Plant &amp; Machinery Operators</td>\n",
       "    </tr>\n",
       "    <tr>\n",
       "      <th>12</th>\n",
       "      <td>Civil Labourer</td>\n",
       "      <td>Protech WA</td>\n",
       "      <td>Civil Labourers required for various projects ...</td>\n",
       "      <td>South Perth</td>\n",
       "      <td>Construction</td>\n",
       "      <td>Other</td>\n",
       "    </tr>\n",
       "    <tr>\n",
       "      <th>13</th>\n",
       "      <td>Construction Supervisor</td>\n",
       "      <td>Wesfarmers Chemicals, Energy &amp; Fertilisers</td>\n",
       "      <td>Provide advice on design, supervision of const...</td>\n",
       "      <td>Kwinana Beach</td>\n",
       "      <td>Construction</td>\n",
       "      <td>Foreperson/Supervisors</td>\n",
       "    </tr>\n",
       "    <tr>\n",
       "      <th>14</th>\n",
       "      <td>Facilities Maintenance Supervisor</td>\n",
       "      <td>City of Stirling</td>\n",
       "      <td>We are seeking an experienced Facilities Maint...</td>\n",
       "      <td>Stirling</td>\n",
       "      <td>Construction</td>\n",
       "      <td>Contracts Management</td>\n",
       "    </tr>\n",
       "    <tr>\n",
       "      <th>15</th>\n",
       "      <td>Site Manager</td>\n",
       "      <td>Webb &amp; Brown-Neaves</td>\n",
       "      <td>Work with one of Australia’s finest and most a...</td>\n",
       "      <td>Perth WA</td>\n",
       "      <td>Construction</td>\n",
       "      <td>Foreperson/Supervisors</td>\n",
       "    </tr>\n",
       "    <tr>\n",
       "      <th>16</th>\n",
       "      <td>Site Supervisor - FIFO 2:1</td>\n",
       "      <td>McNally Group Contracting Pty Ltd</td>\n",
       "      <td>Seeking a highly driven individual that can ad...</td>\n",
       "      <td>Henderson</td>\n",
       "      <td>Construction</td>\n",
       "      <td>Foreperson/Supervisors</td>\n",
       "    </tr>\n",
       "    <tr>\n",
       "      <th>17</th>\n",
       "      <td>CONSTRUCTION SUPERVISOR - Luxury Residential B...</td>\n",
       "      <td>Finesse Consulting</td>\n",
       "      <td>Manageable workload, highly intricate and deta...</td>\n",
       "      <td>Perth WA</td>\n",
       "      <td>Construction</td>\n",
       "      <td>Foreperson/Supervisors</td>\n",
       "    </tr>\n",
       "    <tr>\n",
       "      <th>18</th>\n",
       "      <td>Finishing Supervisor / Finishing Foreman &amp; Sit...</td>\n",
       "      <td>Infracon Australia Pty Ltd</td>\n",
       "      <td>Immediate start on a contract basis for 6 - 12...</td>\n",
       "      <td>Perth WA</td>\n",
       "      <td>Construction</td>\n",
       "      <td>Foreperson/Supervisors</td>\n",
       "    </tr>\n",
       "    <tr>\n",
       "      <th>19</th>\n",
       "      <td>Production Quality Manager</td>\n",
       "      <td>JWH Group Pty Ltd</td>\n",
       "      <td>An exciting, hands-on role driving continuous ...</td>\n",
       "      <td>Osborne Park</td>\n",
       "      <td>Construction</td>\n",
       "      <td>Other</td>\n",
       "    </tr>\n",
       "    <tr>\n",
       "      <th>20</th>\n",
       "      <td>Estimator</td>\n",
       "      <td>Longreach Recruitment</td>\n",
       "      <td>Working within commercial project department a...</td>\n",
       "      <td>Osborne Park</td>\n",
       "      <td>Construction</td>\n",
       "      <td>Estimating</td>\n",
       "    </tr>\n",
       "    <tr>\n",
       "      <th>21</th>\n",
       "      <td>FT $43-$50 exp based Cas $48- $55 +PCP New Pro...</td>\n",
       "      <td>Paragon Scaffolding Services Pty Ltd</td>\n",
       "      <td>50 hours M-F 2+ years work</td>\n",
       "      <td>Kwinana Beach</td>\n",
       "      <td>Construction</td>\n",
       "      <td>Project Management</td>\n",
=======
       "      <th>count</th>\n",
       "      <td>88</td>\n",
       "      <td>86</td>\n",
       "      <td>88</td>\n",
       "      <td>88</td>\n",
       "      <td>88</td>\n",
       "      <td>88</td>\n",
       "    </tr>\n",
       "    <tr>\n",
       "      <th>unique</th>\n",
       "      <td>80</td>\n",
       "      <td>74</td>\n",
       "      <td>84</td>\n",
       "      <td>28</td>\n",
       "      <td>4</td>\n",
       "      <td>26</td>\n",
       "    </tr>\n",
       "    <tr>\n",
       "      <th>top</th>\n",
       "      <td>Key Account Manager</td>\n",
       "      <td>St John of God Health Care Inc</td>\n",
       "      <td>Provide key single point account management wi...</td>\n",
       "      <td>Perth WA</td>\n",
       "      <td>Sales</td>\n",
       "      <td>Medical Administration</td>\n",
       "    </tr>\n",
       "    <tr>\n",
       "      <th>freq</th>\n",
       "      <td>3</td>\n",
       "      <td>4</td>\n",
       "      <td>3</td>\n",
       "      <td>37</td>\n",
       "      <td>22</td>\n",
       "      <td>9</td>\n",
>>>>>>> Stashed changes
       "    </tr>\n",
       "  </tbody>\n",
       "</table>\n",
       "</div>"
      ],
      "text/plain": [
<<<<<<< Updated upstream
       "                                            job_title  \\\n",
       "0              Precast Concrete Production Supervisor   \n",
       "1                             Bobcat and Truck Driver   \n",
       "2            Residential Building Estimator/Scheduler   \n",
       "3                                  Trainee Supervisor   \n",
       "4                              New Home Administrator   \n",
       "5       Construction Project Coordinator / Supervisor   \n",
       "6                        Assistant Project Management   \n",
       "7                 Site Supervisor NORTH (Residential)   \n",
       "8                             Skilled Labourers - HWA   \n",
       "9   Expression of Interest - Graduate Program Cons...   \n",
       "10                          Assistant Project Manager   \n",
       "11        Civil Maintenance/Plant Operators/Labourers   \n",
       "12                                     Civil Labourer   \n",
       "13                            Construction Supervisor   \n",
       "14                  Facilities Maintenance Supervisor   \n",
       "15                                       Site Manager   \n",
       "16                         Site Supervisor - FIFO 2:1   \n",
       "17  CONSTRUCTION SUPERVISOR - Luxury Residential B...   \n",
       "18  Finishing Supervisor / Finishing Foreman & Sit...   \n",
       "19                         Production Quality Manager   \n",
       "20                                          Estimator   \n",
       "21  FT $43-$50 exp based Cas $48- $55 +PCP New Pro...   \n",
       "\n",
       "                                  company_name  \\\n",
       "0                                      Cascada   \n",
       "1                              SRF Earthmoving   \n",
       "2                                          NaN   \n",
       "3                           Summit Homes Group   \n",
       "4                            JWH Group Pty Ltd   \n",
       "5             WorkPac – Technical Professional   \n",
       "6                                      LachWil   \n",
       "7                       Shelford Constructions   \n",
       "8                                  NRW Pty Ltd   \n",
       "9                                 Monadelphous   \n",
       "10                                Bright Group   \n",
       "11                       LO-GO Appointments WA   \n",
       "12                                  Protech WA   \n",
       "13  Wesfarmers Chemicals, Energy & Fertilisers   \n",
       "14                            City of Stirling   \n",
       "15                         Webb & Brown-Neaves   \n",
       "16           McNally Group Contracting Pty Ltd   \n",
       "17                          Finesse Consulting   \n",
       "18                  Infracon Australia Pty Ltd   \n",
       "19                           JWH Group Pty Ltd   \n",
       "20                       Longreach Recruitment   \n",
       "21        Paragon Scaffolding Services Pty Ltd   \n",
       "\n",
       "                                    short_description   job_location  \\\n",
       "0   We're looking for a leader with concrete exper...         Malaga   \n",
       "1   Join our team of highly skilled Operators in M...     Maddington   \n",
       "2   Building Estimator: An opportunity exists for ...      Rivervale   \n",
       "3   We have an exciting and rare opportunity to jo...         Myaree   \n",
       "4   Residential Attitudes is seeking an ambitious ...   Osborne Park   \n",
       "5   Excellent full time, permanent opportunity for...       Perth WA   \n",
       "6   Project Management and Project Controls\\nExcit...       Perth WA   \n",
       "7   Shelford Quality Homes is seeking an experienc...       Perth WA   \n",
       "8   Join us at NRW and get the opportunity to work...       Perth WA   \n",
       "9   It all starts here - August 2023 and February ...       Perth WA   \n",
       "10  Your drive, integrity, and communication will ...       Perth WA   \n",
       "11  We are looking for Plant Operators/Labourers/C...       Perth WA   \n",
       "12  Civil Labourers required for various projects ...    South Perth   \n",
       "13  Provide advice on design, supervision of const...  Kwinana Beach   \n",
       "14  We are seeking an experienced Facilities Maint...       Stirling   \n",
       "15  Work with one of Australia’s finest and most a...       Perth WA   \n",
       "16  Seeking a highly driven individual that can ad...      Henderson   \n",
       "17  Manageable workload, highly intricate and deta...       Perth WA   \n",
       "18  Immediate start on a contract basis for 6 - 12...       Perth WA   \n",
       "19  An exciting, hands-on role driving continuous ...   Osborne Park   \n",
       "20  Working within commercial project department a...   Osborne Park   \n",
       "21                         50 hours M-F 2+ years work  Kwinana Beach   \n",
       "\n",
       "   job_classification        job_subclassification  \n",
       "0        Construction       Foreperson/Supervisors  \n",
       "1        Construction  Plant & Machinery Operators  \n",
       "2        Construction                   Estimating  \n",
       "3        Construction       Foreperson/Supervisors  \n",
       "4        Construction         Contracts Management  \n",
       "5        Construction           Project Management  \n",
       "6        Construction           Project Management  \n",
       "7        Construction       Foreperson/Supervisors  \n",
       "8        Construction                        Other  \n",
       "9        Construction           Project Management  \n",
       "10       Construction           Project Management  \n",
       "11       Construction  Plant & Machinery Operators  \n",
       "12       Construction                        Other  \n",
       "13       Construction       Foreperson/Supervisors  \n",
       "14       Construction         Contracts Management  \n",
       "15       Construction       Foreperson/Supervisors  \n",
       "16       Construction       Foreperson/Supervisors  \n",
       "17       Construction       Foreperson/Supervisors  \n",
       "18       Construction       Foreperson/Supervisors  \n",
       "19       Construction                        Other  \n",
       "20       Construction                   Estimating  \n",
       "21       Construction           Project Management  "
=======
       "                  job_title                    company_name  \\\n",
       "count                    88                              86   \n",
       "unique                   80                              74   \n",
       "top     Key Account Manager  St John of God Health Care Inc   \n",
       "freq                      3                               4   \n",
       "\n",
       "                                        short_description job_location  \\\n",
       "count                                                  88           88   \n",
       "unique                                                 84           28   \n",
       "top     Provide key single point account management wi...     Perth WA   \n",
       "freq                                                    3           37   \n",
       "\n",
       "       job_classification   job_subclassification  \n",
       "count                  88                      88  \n",
       "unique                  4                      26  \n",
       "top                 Sales  Medical Administration  \n",
       "freq                   22                       9  "
>>>>>>> Stashed changes
      ]
     },
     "execution_count": 25,
     "metadata": {},
     "output_type": "execute_result"
    }
   ],
   "source": [
    "first_data_df = pd.DataFrame(first_data)\n",
    "first_data_df.describe()"
   ]
  },
  {
   "cell_type": "markdown",
<<<<<<< Updated upstream
   "id": "c098066f",
=======
   "id": "35c0677a",
>>>>>>> Stashed changes
   "metadata": {},
   "source": [
    "### Count words to plot\n",
    "\n",
    "-----"
   ]
  },
  {
   "cell_type": "code",
<<<<<<< Updated upstream
   "execution_count": 8,
   "id": "6caa5171",
=======
   "execution_count": 26,
   "id": "4b009d22",
>>>>>>> Stashed changes
   "metadata": {},
   "outputs": [],
   "source": [
    "# count, tally and describe words in short_description\n",
    "\n",
    "description_count_df = (first_data_df['short_description'].str.split(expand=True)\n",
    "              .stack()\n",
    "              .value_counts()\n",
    "              .rename_axis('vals')\n",
    "              .reset_index(name='count'))"
   ]
  },
  {
   "cell_type": "code",
<<<<<<< Updated upstream
   "execution_count": 9,
   "id": "2dca7eaa",
=======
   "execution_count": 27,
   "id": "ee3f33c5",
>>>>>>> Stashed changes
   "metadata": {},
   "outputs": [
    {
     "data": {
      "text/html": [
       "<div>\n",
       "<style scoped>\n",
       "    .dataframe tbody tr th:only-of-type {\n",
       "        vertical-align: middle;\n",
       "    }\n",
       "\n",
       "    .dataframe tbody tr th {\n",
       "        vertical-align: top;\n",
       "    }\n",
       "\n",
       "    .dataframe thead th {\n",
       "        text-align: right;\n",
       "    }\n",
       "</style>\n",
       "<table border=\"1\" class=\"dataframe\">\n",
       "  <thead>\n",
       "    <tr style=\"text-align: right;\">\n",
       "      <th></th>\n",
       "      <th>vals</th>\n",
       "      <th>count</th>\n",
       "    </tr>\n",
       "  </thead>\n",
       "  <tbody>\n",
       "    <tr>\n",
       "      <th>0</th>\n",
       "      <td>and</td>\n",
<<<<<<< Updated upstream
       "      <td>17</td>\n",
=======
       "      <td>56</td>\n",
>>>>>>> Stashed changes
       "    </tr>\n",
       "    <tr>\n",
       "      <th>1</th>\n",
       "      <td>a</td>\n",
<<<<<<< Updated upstream
       "      <td>13</td>\n",
       "    </tr>\n",
       "    <tr>\n",
       "      <th>2</th>\n",
       "      <td>for</td>\n",
       "      <td>11</td>\n",
       "    </tr>\n",
       "    <tr>\n",
       "      <th>3</th>\n",
       "      <td>to</td>\n",
       "      <td>10</td>\n",
       "    </tr>\n",
       "    <tr>\n",
       "      <th>4</th>\n",
       "      <td>of</td>\n",
       "      <td>7</td>\n",
=======
       "      <td>54</td>\n",
       "    </tr>\n",
       "    <tr>\n",
       "      <th>2</th>\n",
       "      <td>to</td>\n",
       "      <td>53</td>\n",
       "    </tr>\n",
       "    <tr>\n",
       "      <th>3</th>\n",
       "      <td>the</td>\n",
       "      <td>45</td>\n",
       "    </tr>\n",
       "    <tr>\n",
       "      <th>4</th>\n",
       "      <td>in</td>\n",
       "      <td>41</td>\n",
>>>>>>> Stashed changes
       "    </tr>\n",
       "    <tr>\n",
       "      <th>...</th>\n",
       "      <td>...</td>\n",
       "      <td>...</td>\n",
       "    </tr>\n",
       "    <tr>\n",
<<<<<<< Updated upstream
       "      <th>231</th>\n",
       "      <td>February</td>\n",
       "      <td>1</td>\n",
       "    </tr>\n",
       "    <tr>\n",
       "      <th>232</th>\n",
       "      <td>whilst</td>\n",
       "      <td>1</td>\n",
       "    </tr>\n",
       "    <tr>\n",
       "      <th>233</th>\n",
       "      <td>all</td>\n",
       "      <td>1</td>\n",
       "    </tr>\n",
       "    <tr>\n",
       "      <th>234</th>\n",
       "      <td>some</td>\n",
       "      <td>1</td>\n",
       "    </tr>\n",
       "    <tr>\n",
       "      <th>235</th>\n",
       "      <td>projects,</td>\n",
=======
       "      <th>697</th>\n",
       "      <td>Nurse</td>\n",
       "      <td>1</td>\n",
       "    </tr>\n",
       "    <tr>\n",
       "      <th>698</th>\n",
       "      <td>University</td>\n",
       "      <td>1</td>\n",
       "    </tr>\n",
       "    <tr>\n",
       "      <th>699</th>\n",
       "      <td>mindset,</td>\n",
       "      <td>1</td>\n",
       "    </tr>\n",
       "    <tr>\n",
       "      <th>700</th>\n",
       "      <td>clients</td>\n",
       "      <td>1</td>\n",
       "    </tr>\n",
       "    <tr>\n",
       "      <th>701</th>\n",
       "      <td>dedicated</td>\n",
>>>>>>> Stashed changes
       "      <td>1</td>\n",
       "    </tr>\n",
       "  </tbody>\n",
       "</table>\n",
<<<<<<< Updated upstream
       "<p>236 rows × 2 columns</p>\n",
       "</div>"
      ],
      "text/plain": [
       "          vals  count\n",
       "0          and     17\n",
       "1            a     13\n",
       "2          for     11\n",
       "3           to     10\n",
       "4           of      7\n",
       "..         ...    ...\n",
       "231   February      1\n",
       "232     whilst      1\n",
       "233        all      1\n",
       "234       some      1\n",
       "235  projects,      1\n",
       "\n",
       "[236 rows x 2 columns]"
      ]
     },
     "execution_count": 9,
=======
       "<p>702 rows × 2 columns</p>\n",
       "</div>"
      ],
      "text/plain": [
       "           vals  count\n",
       "0           and     56\n",
       "1             a     54\n",
       "2            to     53\n",
       "3           the     45\n",
       "4            in     41\n",
       "..          ...    ...\n",
       "697       Nurse      1\n",
       "698  University      1\n",
       "699    mindset,      1\n",
       "700     clients      1\n",
       "701   dedicated      1\n",
       "\n",
       "[702 rows x 2 columns]"
      ]
     },
     "execution_count": 27,
>>>>>>> Stashed changes
     "metadata": {},
     "output_type": "execute_result"
    }
   ],
   "source": [
    "description_count_df"
   ]
  },
  {
   "cell_type": "markdown",
<<<<<<< Updated upstream
   "id": "44e3467f",
=======
   "id": "9158ea18",
>>>>>>> Stashed changes
   "metadata": {},
   "source": [
    "### Create dataframes for tables\n",
    "\n",
    "-----"
   ]
  },
  {
   "cell_type": "markdown",
<<<<<<< Updated upstream
   "id": "c758b38d",
=======
   "id": "a1a417d5",
>>>>>>> Stashed changes
   "metadata": {},
   "source": [
    "### Connect to postgres and load data to db\n",
    "\n",
    "-----"
   ]
  },
  {
   "cell_type": "code",
   "execution_count": null,
<<<<<<< Updated upstream
   "id": "86b263b7",
=======
   "id": "de730a96",
>>>>>>> Stashed changes
   "metadata": {},
   "outputs": [],
   "source": []
  },
  {
   "cell_type": "code",
   "execution_count": null,
<<<<<<< Updated upstream
   "id": "938f2470",
=======
   "id": "7b3b7782",
>>>>>>> Stashed changes
   "metadata": {},
   "outputs": [],
   "source": []
  }
 ],
 "metadata": {
  "kernelspec": {
   "display_name": "Python 3 (ipykernel)",
   "language": "python",
   "name": "python3"
  },
  "language_info": {
   "codemirror_mode": {
    "name": "ipython",
    "version": 3
   },
   "file_extension": ".py",
   "mimetype": "text/x-python",
   "name": "python",
   "nbconvert_exporter": "python",
   "pygments_lexer": "ipython3",
   "version": "3.7.7"
  }
 },
 "nbformat": 4,
 "nbformat_minor": 5
}
