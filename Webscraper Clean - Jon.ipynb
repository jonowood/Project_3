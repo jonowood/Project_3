{
 "cells": [
  {
   "cell_type": "code",
   "execution_count": 1,
   "id": "6eb57d57",
   "metadata": {},
   "outputs": [],
   "source": [
    "from bs4 import BeautifulSoup\n",
    "import requests\n",
    "import os\n",
    "import urllib\n",
    "import pandas as pd\n",
    "import numpy as np\n",
    "import requests\n",
    "import lxml\n",
    "import time"
   ]
  },
  {
   "cell_type": "code",
   "execution_count": 7,
   "id": "d86764c2",
   "metadata": {},
   "outputs": [],
   "source": [
    "# data to scrape\n",
    "job_title = []\n",
    "job_link = []\n",
    "salary_range = []\n",
    "search_term = []\n",
    "company_name = []\n",
    "short_description = []\n",
    "job_area = []\n",
    "salary_amount_searchpage=[]\n",
    "job_location = []\n",
    "\n",
    "job_counter = 0\n",
    "jobs_on_page = soup('article')"
   ]
  },
  {
   "cell_type": "code",
   "execution_count": 8,
   "id": "3d8d81d6",
   "metadata": {},
   "outputs": [],
   "source": [
    "# search for searchterm and salary to get the number of pages \n",
    "url = 'https://www.seek.com.au/jobs-in-construction/in-All-Perth-WA'\n",
    "res = requests.get(url)\n",
    "soup = BeautifulSoup(res.content, features='html.parser')"
   ]
  },
  {
   "cell_type": "code",
   "execution_count": 10,
   "id": "8a079119",
   "metadata": {},
   "outputs": [
    {
     "name": "stdout",
     "output_type": "stream",
     "text": [
      "Jobs scraped: 23\r"
     ]
    }
   ],
   "source": [
    "for i in range(len(jobs_on_page)):\n",
    "                \n",
    "                job_counter += 1\n",
    "                \n",
    "                print('Jobs scraped: %d' % job_counter, end='\\r')\n",
    "                \n",
    "                job_title.append(soup('article')[i]['aria-label'])\n",
    "#                 job_link.append(soup('article')[i].h1.a['href'])\n",
    "                company_name.append(soup('article')[i]('a', {'target': '_self'})[1].text)\n",
    "                short_description.append(soup('article')[i].find('span', {'data-automation':'jobShortDescription'}).text)\n",
    "                job_location.append(soup('article')[i].find('a', {'data-automation':'jobLocation'}).text)\n",
    "#                 salary_range.append(salary)\n",
    "#                 search_term.append(term)\n",
    "                \n",
    "                try:\n",
    "                    salary_amount_searchpage.append(soup('article')[i].find_all('span', {'data-automation':'jobSalary'})[0].text)\n",
    "                except:\n",
    "                    salary_amount_searchpage.append(np.nan)\n",
    "                try:\n",
    "                    job_area.append(soup('article')[i].find('a', {'data-automation': 'jobArea'}).text)\n",
    "                except:\n",
    "                    job_area.append(np.nan)"
   ]
  },
  {
   "cell_type": "code",
   "execution_count": 13,
   "id": "3e4b4bc5",
   "metadata": {},
   "outputs": [],
   "source": [
    "pre_data = {'job_title': job_title,\n",
    "            'job_link': job_link, \n",
    "            'salary_range': salary_range, \n",
    "            'search_term': search_term,\n",
    "            'company_name': company_name,\n",
    "            'short_description': short_description,\n",
    "            'job_location': job_location,\n",
    "            'job_area': job_area}"
   ]
  },
  {
   "cell_type": "code",
   "execution_count": 14,
   "id": "6f682942",
   "metadata": {},
   "outputs": [
    {
     "ename": "ValueError",
     "evalue": "All arrays must be of the same length",
     "output_type": "error",
     "traceback": [
      "\u001b[1;31m---------------------------------------------------------------------------\u001b[0m",
      "\u001b[1;31mValueError\u001b[0m                                Traceback (most recent call last)",
      "Input \u001b[1;32mIn [14]\u001b[0m, in \u001b[0;36m<cell line: 1>\u001b[1;34m()\u001b[0m\n\u001b[1;32m----> 1\u001b[0m pre_data_df \u001b[38;5;241m=\u001b[39m \u001b[43mpd\u001b[49m\u001b[38;5;241;43m.\u001b[39;49m\u001b[43mDataFrame\u001b[49m\u001b[43m(\u001b[49m\u001b[43mpre_data\u001b[49m\u001b[43m)\u001b[49m\n\u001b[0;32m      2\u001b[0m pre_data_df\n",
      "File \u001b[1;32m~\\Anaconda3\\lib\\site-packages\\pandas\\core\\frame.py:636\u001b[0m, in \u001b[0;36mDataFrame.__init__\u001b[1;34m(self, data, index, columns, dtype, copy)\u001b[0m\n\u001b[0;32m    630\u001b[0m     mgr \u001b[38;5;241m=\u001b[39m \u001b[38;5;28mself\u001b[39m\u001b[38;5;241m.\u001b[39m_init_mgr(\n\u001b[0;32m    631\u001b[0m         data, axes\u001b[38;5;241m=\u001b[39m{\u001b[38;5;124m\"\u001b[39m\u001b[38;5;124mindex\u001b[39m\u001b[38;5;124m\"\u001b[39m: index, \u001b[38;5;124m\"\u001b[39m\u001b[38;5;124mcolumns\u001b[39m\u001b[38;5;124m\"\u001b[39m: columns}, dtype\u001b[38;5;241m=\u001b[39mdtype, copy\u001b[38;5;241m=\u001b[39mcopy\n\u001b[0;32m    632\u001b[0m     )\n\u001b[0;32m    634\u001b[0m \u001b[38;5;28;01melif\u001b[39;00m \u001b[38;5;28misinstance\u001b[39m(data, \u001b[38;5;28mdict\u001b[39m):\n\u001b[0;32m    635\u001b[0m     \u001b[38;5;66;03m# GH#38939 de facto copy defaults to False only in non-dict cases\u001b[39;00m\n\u001b[1;32m--> 636\u001b[0m     mgr \u001b[38;5;241m=\u001b[39m \u001b[43mdict_to_mgr\u001b[49m\u001b[43m(\u001b[49m\u001b[43mdata\u001b[49m\u001b[43m,\u001b[49m\u001b[43m \u001b[49m\u001b[43mindex\u001b[49m\u001b[43m,\u001b[49m\u001b[43m \u001b[49m\u001b[43mcolumns\u001b[49m\u001b[43m,\u001b[49m\u001b[43m \u001b[49m\u001b[43mdtype\u001b[49m\u001b[38;5;241;43m=\u001b[39;49m\u001b[43mdtype\u001b[49m\u001b[43m,\u001b[49m\u001b[43m \u001b[49m\u001b[43mcopy\u001b[49m\u001b[38;5;241;43m=\u001b[39;49m\u001b[43mcopy\u001b[49m\u001b[43m,\u001b[49m\u001b[43m \u001b[49m\u001b[43mtyp\u001b[49m\u001b[38;5;241;43m=\u001b[39;49m\u001b[43mmanager\u001b[49m\u001b[43m)\u001b[49m\n\u001b[0;32m    637\u001b[0m \u001b[38;5;28;01melif\u001b[39;00m \u001b[38;5;28misinstance\u001b[39m(data, ma\u001b[38;5;241m.\u001b[39mMaskedArray):\n\u001b[0;32m    638\u001b[0m     \u001b[38;5;28;01mimport\u001b[39;00m \u001b[38;5;21;01mnumpy\u001b[39;00m\u001b[38;5;21;01m.\u001b[39;00m\u001b[38;5;21;01mma\u001b[39;00m\u001b[38;5;21;01m.\u001b[39;00m\u001b[38;5;21;01mmrecords\u001b[39;00m \u001b[38;5;28;01mas\u001b[39;00m \u001b[38;5;21;01mmrecords\u001b[39;00m\n",
      "File \u001b[1;32m~\\Anaconda3\\lib\\site-packages\\pandas\\core\\internals\\construction.py:502\u001b[0m, in \u001b[0;36mdict_to_mgr\u001b[1;34m(data, index, columns, dtype, typ, copy)\u001b[0m\n\u001b[0;32m    494\u001b[0m     arrays \u001b[38;5;241m=\u001b[39m [\n\u001b[0;32m    495\u001b[0m         x\n\u001b[0;32m    496\u001b[0m         \u001b[38;5;28;01mif\u001b[39;00m \u001b[38;5;129;01mnot\u001b[39;00m \u001b[38;5;28mhasattr\u001b[39m(x, \u001b[38;5;124m\"\u001b[39m\u001b[38;5;124mdtype\u001b[39m\u001b[38;5;124m\"\u001b[39m) \u001b[38;5;129;01mor\u001b[39;00m \u001b[38;5;129;01mnot\u001b[39;00m \u001b[38;5;28misinstance\u001b[39m(x\u001b[38;5;241m.\u001b[39mdtype, ExtensionDtype)\n\u001b[0;32m    497\u001b[0m         \u001b[38;5;28;01melse\u001b[39;00m x\u001b[38;5;241m.\u001b[39mcopy()\n\u001b[0;32m    498\u001b[0m         \u001b[38;5;28;01mfor\u001b[39;00m x \u001b[38;5;129;01min\u001b[39;00m arrays\n\u001b[0;32m    499\u001b[0m     ]\n\u001b[0;32m    500\u001b[0m     \u001b[38;5;66;03m# TODO: can we get rid of the dt64tz special case above?\u001b[39;00m\n\u001b[1;32m--> 502\u001b[0m \u001b[38;5;28;01mreturn\u001b[39;00m \u001b[43marrays_to_mgr\u001b[49m\u001b[43m(\u001b[49m\u001b[43marrays\u001b[49m\u001b[43m,\u001b[49m\u001b[43m \u001b[49m\u001b[43mcolumns\u001b[49m\u001b[43m,\u001b[49m\u001b[43m \u001b[49m\u001b[43mindex\u001b[49m\u001b[43m,\u001b[49m\u001b[43m \u001b[49m\u001b[43mdtype\u001b[49m\u001b[38;5;241;43m=\u001b[39;49m\u001b[43mdtype\u001b[49m\u001b[43m,\u001b[49m\u001b[43m \u001b[49m\u001b[43mtyp\u001b[49m\u001b[38;5;241;43m=\u001b[39;49m\u001b[43mtyp\u001b[49m\u001b[43m,\u001b[49m\u001b[43m \u001b[49m\u001b[43mconsolidate\u001b[49m\u001b[38;5;241;43m=\u001b[39;49m\u001b[43mcopy\u001b[49m\u001b[43m)\u001b[49m\n",
      "File \u001b[1;32m~\\Anaconda3\\lib\\site-packages\\pandas\\core\\internals\\construction.py:120\u001b[0m, in \u001b[0;36marrays_to_mgr\u001b[1;34m(arrays, columns, index, dtype, verify_integrity, typ, consolidate)\u001b[0m\n\u001b[0;32m    117\u001b[0m \u001b[38;5;28;01mif\u001b[39;00m verify_integrity:\n\u001b[0;32m    118\u001b[0m     \u001b[38;5;66;03m# figure out the index, if necessary\u001b[39;00m\n\u001b[0;32m    119\u001b[0m     \u001b[38;5;28;01mif\u001b[39;00m index \u001b[38;5;129;01mis\u001b[39;00m \u001b[38;5;28;01mNone\u001b[39;00m:\n\u001b[1;32m--> 120\u001b[0m         index \u001b[38;5;241m=\u001b[39m \u001b[43m_extract_index\u001b[49m\u001b[43m(\u001b[49m\u001b[43marrays\u001b[49m\u001b[43m)\u001b[49m\n\u001b[0;32m    121\u001b[0m     \u001b[38;5;28;01melse\u001b[39;00m:\n\u001b[0;32m    122\u001b[0m         index \u001b[38;5;241m=\u001b[39m ensure_index(index)\n",
      "File \u001b[1;32m~\\Anaconda3\\lib\\site-packages\\pandas\\core\\internals\\construction.py:674\u001b[0m, in \u001b[0;36m_extract_index\u001b[1;34m(data)\u001b[0m\n\u001b[0;32m    672\u001b[0m lengths \u001b[38;5;241m=\u001b[39m \u001b[38;5;28mlist\u001b[39m(\u001b[38;5;28mset\u001b[39m(raw_lengths))\n\u001b[0;32m    673\u001b[0m \u001b[38;5;28;01mif\u001b[39;00m \u001b[38;5;28mlen\u001b[39m(lengths) \u001b[38;5;241m>\u001b[39m \u001b[38;5;241m1\u001b[39m:\n\u001b[1;32m--> 674\u001b[0m     \u001b[38;5;28;01mraise\u001b[39;00m \u001b[38;5;167;01mValueError\u001b[39;00m(\u001b[38;5;124m\"\u001b[39m\u001b[38;5;124mAll arrays must be of the same length\u001b[39m\u001b[38;5;124m\"\u001b[39m)\n\u001b[0;32m    676\u001b[0m \u001b[38;5;28;01mif\u001b[39;00m have_dicts:\n\u001b[0;32m    677\u001b[0m     \u001b[38;5;28;01mraise\u001b[39;00m \u001b[38;5;167;01mValueError\u001b[39;00m(\n\u001b[0;32m    678\u001b[0m         \u001b[38;5;124m\"\u001b[39m\u001b[38;5;124mMixing dicts with non-Series may lead to ambiguous ordering.\u001b[39m\u001b[38;5;124m\"\u001b[39m\n\u001b[0;32m    679\u001b[0m     )\n",
      "\u001b[1;31mValueError\u001b[0m: All arrays must be of the same length"
     ]
    }
   ],
   "source": [
    "pre_data_df = pd.DataFrame(pre_data)\n",
    "pre_data_df"
   ]
  },
  {
   "cell_type": "code",
   "execution_count": 15,
   "id": "ff36a6e6",
   "metadata": {},
   "outputs": [
    {
     "data": {
      "text/plain": [
       "['Seeking a highly driven individual that can adapt to a changing environment and can excel in a fast-paced work atmosphere.',\n",
       " 'Seeking a highly driven individual that can adapt to a changing environment and can excel in a fast-paced work atmosphere.',\n",
       " 'Join our team of highly skilled Operators in Maddington as a Bobcat Operator/Truck Driver. Great rate offered for the right candidate.',\n",
       " 'We have an exciting and rare opportunity to join our Modular team as a Trainee Supervisor.',\n",
       " 'Project Management and Project Controls\\nExciting opportunities\\nVariety of industries',\n",
       " 'Join us at NRW and get the opportunity to work on some of Perth’s major projects whilst reaping the great rewards NRW can offer!',\n",
       " 'We are looking for Plant Operators/Labourers/Civil Workers for multiple positions in the Perth Metro area.',\n",
       " 'Your drive, integrity, and communication will play a key role in our growing, high-performing, client-focused practice',\n",
       " 'Provide advice on design, supervision of construction teams and contractors across a range of diverse projects.',\n",
       " 'We are seeking an experienced Facilities Maintenance Supervisor to ensure the effective and efficient delivery of building maintenance services.',\n",
       " 'Work with one of Australia’s finest and most awarded home building companies',\n",
       " 'Seeking a highly driven individual that can adapt to a changing environment and can excel in a fast-paced work atmosphere.',\n",
       " 'Manageable workload, highly intricate and detailed projects, we are looking for exceptional candidates to be considered for this stand out opportunity',\n",
       " 'Excellent full time, permanent opportunity for an Experienced Construction Project Coordinator / Supervisor',\n",
       " 'Immediate start on a contract basis for 6 - 12 months on 2 projects -multi storey apartments and aged care for a Tier 2 Building Contractor.',\n",
       " \"New opportunity for a Site Manager to join one of Perth's finest construction contractors.\",\n",
       " \"Looking to further develop your career in the Building Industry with one of Perth's most successful residential builders? Apply now!\",\n",
       " 'Want to join a professional and vibrant team with a fantastic organisational culture? Look no further!',\n",
       " 'Nationally renowned CBD based client is seeking an experienced and driven Project Coordinator to join their team',\n",
       " 'To provide high-quality facilities for the City to meet future needs.',\n",
       " 'ASKIN is a growing construction company delivering insulated panel projects in the commercial, industrial, retail, façade and cleanroom applications.',\n",
       " 'Construction Manager',\n",
       " 'Delivers building condition assessment programs for government facilities located across the State.']"
      ]
     },
     "execution_count": 15,
     "metadata": {},
     "output_type": "execute_result"
    }
   ],
   "source": [
    "short_description"
   ]
  },
  {
   "cell_type": "code",
   "execution_count": null,
   "id": "44207e38",
   "metadata": {},
   "outputs": [],
   "source": []
  }
 ],
 "metadata": {
  "kernelspec": {
   "display_name": "Python 3 (ipykernel)",
   "language": "python",
   "name": "python3"
  },
  "language_info": {
   "codemirror_mode": {
    "name": "ipython",
    "version": 3
   },
   "file_extension": ".py",
   "mimetype": "text/x-python",
   "name": "python",
   "nbconvert_exporter": "python",
   "pygments_lexer": "ipython3",
   "version": "3.9.12"
  }
 },
 "nbformat": 4,
 "nbformat_minor": 5
}
