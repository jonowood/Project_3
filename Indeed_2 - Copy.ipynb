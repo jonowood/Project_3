{
 "cells": [
  {
   "cell_type": "code",
   "execution_count": 1,
   "id": "87680851",
   "metadata": {},
   "outputs": [],
   "source": [
    "#install dependencies\n",
    "import urllib\n",
    "import requests\n",
    "from bs4 import BeautifulSoup\n",
    "import pandas as pd\n",
    "import numpy as np\n",
    "import os\n",
    "import time"
   ]
  },
  {
   "cell_type": "code",
   "execution_count": 2,
   "id": "02684f50",
   "metadata": {},
   "outputs": [],
   "source": [
    "headers = {\n",
    "     \"User-agent\": \"Mozilla/5.0 (X11; Linux x86_64) AppleWebKit/537.36 (KHTML, like Gecko) Chrome/77.0.3865.120 Safari/537.36\"\n",
    "}"
   ]
  },
  {
   "cell_type": "code",
   "execution_count": 3,
   "id": "16b6ab9c",
   "metadata": {},
   "outputs": [],
   "source": [
    "# data to scrape\n",
    "job_title = []\n",
    "company_name = []\n",
    "short_description = []\n",
    "job_location = []\n",
    "\n",
    "job_counter = 0"
   ]
  },
  {
   "cell_type": "code",
   "execution_count": 4,
   "id": "826c78e0",
   "metadata": {},
   "outputs": [],
   "source": [
    "# search for term and return pages\n",
    "url = 'https://au.indeed.com/jobs?q=&l=Perth+WA&vjk=ea9c655d3228ceca'\n",
    "page = requests.get(url, headers=headers)\n",
    "soup = BeautifulSoup(page.content, features='html.parser')\n",
    "#jobs_on_page = soup.find_all('a', {'span':'title'})\n",
    "jobs_on_page = soup.find('div') # returns one job scraped\n",
    "#jobs_on_page = soup.find_all('h2', {'class','jobTitle'})\n",
    "#jobs_on_page = soup.find('div.job_seen_beacon')"
   ]
  },
  {
   "cell_type": "code",
   "execution_count": 5,
   "id": "dd656ab5",
   "metadata": {},
   "outputs": [
    {
     "name": "stdout",
     "output_type": "stream",
     "text": [
      "Jobs scraped: 3\r"
     ]
    }
   ],
   "source": [
    "    for i in range(len(jobs_on_page)):\n",
    "\n",
    "                    job_counter += 1\n",
    "\n",
    "                    # job_title.append(soup('div')[i].find('a', {'target':'_blank'}).text)\n",
    "\n",
    "                    # short_description.append(soup('li')[i].find('div', {'class':'job-abstract'}).text)\n",
    "                    # job_location.append(soup('article')[i].find('div', {'class':'info-container heading-small mobile-web-redesign location-container'}).text)\n",
    "\n",
    "\n",
    "\n",
    "    #                job_subclassification.append(soup('article')[i].find('a', {'data-automation':'jobSubClassification'}).text)\n",
    "    #                job_classification.append(soup('article')[i].find('a', {'data-automation':'jobClassification'}).text)\n",
    "    #                 job_link.append(soup('article')[i].h1.a['href'])\n",
    "                    try:\n",
    "                        company_name.append(soup('div')[i].find('span', {'class':'companyName'}).text)\n",
    "                    except:\n",
    "                        company_name.append(np.nan)\n",
    "                    try:\n",
    "                        job_location.append(soup('article')[i].find('span', {'class':'companyLocation'}).text)\n",
    "                    except:\n",
    "                        job_location.append(np.nan)\n",
    "\n",
    "                    print('Jobs scraped: %d' % job_counter, end='\\r')\n",
    "                \n",
    "    \n",
    "                "
   ]
  },
  {
   "cell_type": "code",
   "execution_count": 6,
   "id": "3983f421",
   "metadata": {},
   "outputs": [
    {
     "name": "stdout",
     "output_type": "stream",
     "text": [
      "3\n",
      "3\n"
     ]
    }
   ],
   "source": [
    "print(len(company_name))\n",
    "# print(len(job_title))\n",
    "print(len(job_location))\n",
    "#print(len(short_description))"
   ]
  },
  {
   "cell_type": "code",
   "execution_count": 7,
   "id": "9ba05279",
   "metadata": {},
   "outputs": [],
   "source": [
    "first_data = {\n",
    "            # 'job_title': job_title,\n",
    "            'company_name': company_name,\n",
    "            #'short_description': short_description,\n",
    "            'job_location': job_location\n",
    "            #'job_classification': job_classification,\n",
    "            #'job_subclassification': job_subclassification\n",
    "             }"
   ]
  },
  {
   "cell_type": "code",
   "execution_count": 8,
   "id": "b9761369",
   "metadata": {},
   "outputs": [
    {
     "data": {
      "text/html": [
       "<div>\n",
       "<style scoped>\n",
       "    .dataframe tbody tr th:only-of-type {\n",
       "        vertical-align: middle;\n",
       "    }\n",
       "\n",
       "    .dataframe tbody tr th {\n",
       "        vertical-align: top;\n",
       "    }\n",
       "\n",
       "    .dataframe thead th {\n",
       "        text-align: right;\n",
       "    }\n",
       "</style>\n",
       "<table border=\"1\" class=\"dataframe\">\n",
       "  <thead>\n",
       "    <tr style=\"text-align: right;\">\n",
       "      <th></th>\n",
       "      <th>company_name</th>\n",
       "      <th>job_location</th>\n",
       "    </tr>\n",
       "  </thead>\n",
       "  <tbody>\n",
       "    <tr>\n",
       "      <th>0</th>\n",
       "      <td>NaN</td>\n",
       "      <td>NaN</td>\n",
       "    </tr>\n",
       "    <tr>\n",
       "      <th>1</th>\n",
       "      <td>NaN</td>\n",
       "      <td>NaN</td>\n",
       "    </tr>\n",
       "    <tr>\n",
       "      <th>2</th>\n",
       "      <td>NaN</td>\n",
       "      <td>NaN</td>\n",
       "    </tr>\n",
       "  </tbody>\n",
       "</table>\n",
       "</div>"
      ],
      "text/plain": [
       "   company_name  job_location\n",
       "0           NaN           NaN\n",
       "1           NaN           NaN\n",
       "2           NaN           NaN"
      ]
     },
     "execution_count": 8,
     "metadata": {},
     "output_type": "execute_result"
    }
   ],
   "source": [
    "first_data_df = pd.DataFrame(first_data)\n",
    "first_data_df"
   ]
  },
  {
   "cell_type": "code",
   "execution_count": null,
   "id": "ebedb7ae",
   "metadata": {},
   "outputs": [],
   "source": []
  }
 ],
 "metadata": {
  "kernelspec": {
   "display_name": "PythonData",
   "language": "python",
   "name": "python3"
  },
  "language_info": {
   "codemirror_mode": {
    "name": "ipython",
    "version": 3
   },
   "file_extension": ".py",
   "mimetype": "text/x-python",
   "name": "python",
   "nbconvert_exporter": "python",
   "pygments_lexer": "ipython3",
   "version": "3.7.7"
  },
  "vscode": {
   "interpreter": {
    "hash": "42f11aff1c057812df87c774017a60518f744b69b0401caac01fc7867a42b09d"
   }
  }
 },
 "nbformat": 4,
 "nbformat_minor": 5
}
